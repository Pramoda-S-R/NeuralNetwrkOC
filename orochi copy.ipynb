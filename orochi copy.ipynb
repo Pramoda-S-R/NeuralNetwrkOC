{
 "cells": [
  {
   "cell_type": "code",
   "execution_count": 1,
   "id": "a4ccfe98",
   "metadata": {},
   "outputs": [],
   "source": [
    "import pandas as pd"
   ]
  },
  {
   "cell_type": "code",
   "execution_count": 2,
   "id": "36278ca5",
   "metadata": {},
   "outputs": [],
   "source": [
    "files = [\"./data/orochi_data/clapping.txt\",\n",
    "         \"./data/orochi_data/fingersnap.txt\",]\n",
    "\n",
    "dfs = []\n",
    "\n",
    "for idx, file in enumerate(files):\n",
    "    with open(file, \"r\") as f:\n",
    "        lines = f.readlines()\n",
    "        df = pd.DataFrame([x.split() for x in lines[0:120]])\n",
    "        df.drop(columns=[0, 1, 2, 3, 4, 5, 8, 9], inplace=True)\n",
    "        # add another column with the file name\n",
    "        df[\"gesture\"] = idx\n",
    "        df.columns = [\"f1\", \"f2\", \"gesture\"]\n",
    "        dfs.append(df)"
   ]
  },
  {
   "cell_type": "code",
   "execution_count": 3,
   "id": "731d9e65",
   "metadata": {},
   "outputs": [],
   "source": [
    "df = pd.DataFrame()\n",
    "for d in dfs:\n",
    "    df = pd.concat([df, d], ignore_index=True)\n",
    "    \n",
    "X = df[[\"f1\", \"f2\"]]\n",
    "y = df[\"gesture\"]"
   ]
  },
  {
   "cell_type": "code",
   "execution_count": 4,
   "id": "30dfe311",
   "metadata": {},
   "outputs": [],
   "source": [
    "# convert X from hex string to int\n",
    "X = X.map(lambda x: int(x, 16))"
   ]
  },
  {
   "cell_type": "markdown",
   "id": "f0be53a5",
   "metadata": {},
   "source": [
    "TODO: extract the unique values and try and remap them to another value and train later reducing input range"
   ]
  },
  {
   "cell_type": "code",
   "execution_count": 5,
   "id": "4c1dccc7",
   "metadata": {},
   "outputs": [],
   "source": [
    "from sklearn.model_selection import train_test_split\n",
    "\n",
    "X_train, X_test, y_train, y_test = train_test_split(\n",
    "    X, y, test_size=0.2, stratify=y, random_state=42)\n"
   ]
  },
  {
   "cell_type": "code",
   "execution_count": 130,
   "id": "87389083",
   "metadata": {},
   "outputs": [
    {
     "name": "stderr",
     "output_type": "stream",
     "text": [
      "c:\\Work\\Python\\NeuralNetwrkOC\\radarml\\Lib\\site-packages\\keras\\src\\layers\\core\\dense.py:93: UserWarning: Do not pass an `input_shape`/`input_dim` argument to a layer. When using Sequential models, prefer using an `Input(shape)` object as the first layer in the model instead.\n",
      "  super().__init__(activity_regularizer=activity_regularizer, **kwargs)\n"
     ]
    }
   ],
   "source": [
    "from tensorflow.keras.models import Sequential\n",
    "from tensorflow.keras.layers import Dense\n",
    "\n",
    "shape = (2,3,2)\n",
    "\n",
    "model = Sequential([\n",
    "    Dense(shape[1], activation='relu', input_shape=(shape[0],), name=\"hidden\"),\n",
    "    Dense(shape[2], activation='softmax')\n",
    "])\n",
    "model.compile(optimizer='adam', loss='sparse_categorical_crossentropy', metrics=['accuracy'])\n"
   ]
  },
  {
   "cell_type": "code",
   "execution_count": 131,
   "id": "a75337c4",
   "metadata": {},
   "outputs": [
    {
     "name": "stdout",
     "output_type": "stream",
     "text": [
      "Epoch 1/400\n",
      "\u001b[1m5/5\u001b[0m \u001b[32m━━━━━━━━━━━━━━━━━━━━\u001b[0m\u001b[37m\u001b[0m \u001b[1m1s\u001b[0m 44ms/step - accuracy: 0.4659 - loss: 15.5263 - val_accuracy: 0.6154 - val_loss: 14.1428\n",
      "Epoch 2/400\n",
      "\u001b[1m5/5\u001b[0m \u001b[32m━━━━━━━━━━━━━━━━━━━━\u001b[0m\u001b[37m\u001b[0m \u001b[1m0s\u001b[0m 16ms/step - accuracy: 0.4385 - loss: 16.0064 - val_accuracy: 0.6154 - val_loss: 13.8193\n",
      "Epoch 3/400\n",
      "\u001b[1m5/5\u001b[0m \u001b[32m━━━━━━━━━━━━━━━━━━━━\u001b[0m\u001b[37m\u001b[0m \u001b[1m0s\u001b[0m 18ms/step - accuracy: 0.4594 - loss: 14.9547 - val_accuracy: 0.6154 - val_loss: 13.5018\n",
      "Epoch 4/400\n",
      "\u001b[1m5/5\u001b[0m \u001b[32m━━━━━━━━━━━━━━━━━━━━\u001b[0m\u001b[37m\u001b[0m \u001b[1m0s\u001b[0m 18ms/step - accuracy: 0.4281 - loss: 15.5217 - val_accuracy: 0.6154 - val_loss: 13.1885\n",
      "Epoch 5/400\n",
      "\u001b[1m5/5\u001b[0m \u001b[32m━━━━━━━━━━━━━━━━━━━━\u001b[0m\u001b[37m\u001b[0m \u001b[1m0s\u001b[0m 17ms/step - accuracy: 0.4546 - loss: 14.4810 - val_accuracy: 0.6154 - val_loss: 12.8792\n",
      "Epoch 6/400\n",
      "\u001b[1m5/5\u001b[0m \u001b[32m━━━━━━━━━━━━━━━━━━━━\u001b[0m\u001b[37m\u001b[0m \u001b[1m0s\u001b[0m 16ms/step - accuracy: 0.4872 - loss: 13.2071 - val_accuracy: 0.6154 - val_loss: 12.5772\n",
      "Epoch 7/400\n",
      "\u001b[1m5/5\u001b[0m \u001b[32m━━━━━━━━━━━━━━━━━━━━\u001b[0m\u001b[37m\u001b[0m \u001b[1m0s\u001b[0m 16ms/step - accuracy: 0.5171 - loss: 12.0931 - val_accuracy: 0.6154 - val_loss: 12.2782\n",
      "Epoch 8/400\n",
      "\u001b[1m5/5\u001b[0m \u001b[32m━━━━━━━━━━━━━━━━━━━━\u001b[0m\u001b[37m\u001b[0m \u001b[1m0s\u001b[0m 16ms/step - accuracy: 0.4503 - loss: 13.5125 - val_accuracy: 0.6154 - val_loss: 11.9774\n",
      "Epoch 9/400\n",
      "\u001b[1m5/5\u001b[0m \u001b[32m━━━━━━━━━━━━━━━━━━━━\u001b[0m\u001b[37m\u001b[0m \u001b[1m0s\u001b[0m 16ms/step - accuracy: 0.4702 - loss: 12.6434 - val_accuracy: 0.6154 - val_loss: 11.6845\n",
      "Epoch 10/400\n",
      "\u001b[1m5/5\u001b[0m \u001b[32m━━━━━━━━━━━━━━━━━━━━\u001b[0m\u001b[37m\u001b[0m \u001b[1m0s\u001b[0m 18ms/step - accuracy: 0.4320 - loss: 13.2408 - val_accuracy: 0.6154 - val_loss: 11.3943\n",
      "Epoch 11/400\n",
      "\u001b[1m5/5\u001b[0m \u001b[32m━━━━━━━━━━━━━━━━━━━━\u001b[0m\u001b[37m\u001b[0m \u001b[1m0s\u001b[0m 18ms/step - accuracy: 0.4854 - loss: 11.7149 - val_accuracy: 0.6154 - val_loss: 11.1146\n",
      "Epoch 12/400\n",
      "\u001b[1m5/5\u001b[0m \u001b[32m━━━━━━━━━━━━━━━━━━━━\u001b[0m\u001b[37m\u001b[0m \u001b[1m0s\u001b[0m 18ms/step - accuracy: 0.4655 - loss: 11.8251 - val_accuracy: 0.6154 - val_loss: 10.8389\n",
      "Epoch 13/400\n",
      "\u001b[1m5/5\u001b[0m \u001b[32m━━━━━━━━━━━━━━━━━━━━\u001b[0m\u001b[37m\u001b[0m \u001b[1m0s\u001b[0m 18ms/step - accuracy: 0.4498 - loss: 11.8366 - val_accuracy: 0.6154 - val_loss: 10.5665\n",
      "Epoch 14/400\n",
      "\u001b[1m5/5\u001b[0m \u001b[32m━━━━━━━━━━━━━━━━━━━━\u001b[0m\u001b[37m\u001b[0m \u001b[1m0s\u001b[0m 18ms/step - accuracy: 0.4542 - loss: 11.4206 - val_accuracy: 0.6154 - val_loss: 10.2989\n",
      "Epoch 15/400\n",
      "\u001b[1m5/5\u001b[0m \u001b[32m━━━━━━━━━━━━━━━━━━━━\u001b[0m\u001b[37m\u001b[0m \u001b[1m0s\u001b[0m 17ms/step - accuracy: 0.4811 - loss: 10.6161 - val_accuracy: 0.6154 - val_loss: 10.0378\n",
      "Epoch 16/400\n",
      "\u001b[1m5/5\u001b[0m \u001b[32m━━━━━━━━━━━━━━━━━━━━\u001b[0m\u001b[37m\u001b[0m \u001b[1m0s\u001b[0m 20ms/step - accuracy: 0.4381 - loss: 11.1288 - val_accuracy: 0.6154 - val_loss: 9.7782\n",
      "Epoch 17/400\n",
      "\u001b[1m5/5\u001b[0m \u001b[32m━━━━━━━━━━━━━━━━━━━━\u001b[0m\u001b[37m\u001b[0m \u001b[1m0s\u001b[0m 17ms/step - accuracy: 0.4720 - loss: 10.2020 - val_accuracy: 0.6154 - val_loss: 9.5255\n",
      "Epoch 18/400\n",
      "\u001b[1m5/5\u001b[0m \u001b[32m━━━━━━━━━━━━━━━━━━━━\u001b[0m\u001b[37m\u001b[0m \u001b[1m0s\u001b[0m 16ms/step - accuracy: 0.4759 - loss: 9.9136 - val_accuracy: 0.6154 - val_loss: 9.2774\n",
      "Epoch 19/400\n",
      "\u001b[1m5/5\u001b[0m \u001b[32m━━━━━━━━━━━━━━━━━━━━\u001b[0m\u001b[37m\u001b[0m \u001b[1m0s\u001b[0m 18ms/step - accuracy: 0.4750 - loss: 9.6420 - val_accuracy: 0.6154 - val_loss: 9.0342\n",
      "Epoch 20/400\n",
      "\u001b[1m5/5\u001b[0m \u001b[32m━━━━━━━━━━━━━━━━━━━━\u001b[0m\u001b[37m\u001b[0m \u001b[1m0s\u001b[0m 21ms/step - accuracy: 0.4741 - loss: 9.4314 - val_accuracy: 0.6154 - val_loss: 8.7930\n",
      "Epoch 21/400\n",
      "\u001b[1m5/5\u001b[0m \u001b[32m━━━━━━━━━━━━━━━━━━━━\u001b[0m\u001b[37m\u001b[0m \u001b[1m0s\u001b[0m 25ms/step - accuracy: 0.4676 - loss: 9.2429 - val_accuracy: 0.6154 - val_loss: 8.5582\n",
      "Epoch 22/400\n",
      "\u001b[1m5/5\u001b[0m \u001b[32m━━━━━━━━━━━━━━━━━━━━\u001b[0m\u001b[37m\u001b[0m \u001b[1m0s\u001b[0m 21ms/step - accuracy: 0.4333 - loss: 9.4880 - val_accuracy: 0.6154 - val_loss: 8.3267\n",
      "Epoch 23/400\n",
      "\u001b[1m5/5\u001b[0m \u001b[32m━━━━━━━━━━━━━━━━━━━━\u001b[0m\u001b[37m\u001b[0m \u001b[1m0s\u001b[0m 20ms/step - accuracy: 0.4824 - loss: 8.5302 - val_accuracy: 0.6154 - val_loss: 8.1022\n",
      "Epoch 24/400\n",
      "\u001b[1m5/5\u001b[0m \u001b[32m━━━━━━━━━━━━━━━━━━━━\u001b[0m\u001b[37m\u001b[0m \u001b[1m0s\u001b[0m 18ms/step - accuracy: 0.4954 - loss: 8.0201 - val_accuracy: 0.6154 - val_loss: 7.8800\n",
      "Epoch 25/400\n",
      "\u001b[1m5/5\u001b[0m \u001b[32m━━━━━━━━━━━━━━━━━━━━\u001b[0m\u001b[37m\u001b[0m \u001b[1m0s\u001b[0m 16ms/step - accuracy: 0.4694 - loss: 8.2256 - val_accuracy: 0.6154 - val_loss: 7.6600\n",
      "Epoch 26/400\n",
      "\u001b[1m5/5\u001b[0m \u001b[32m━━━━━━━━━━━━━━━━━━━━\u001b[0m\u001b[37m\u001b[0m \u001b[1m0s\u001b[0m 16ms/step - accuracy: 0.4819 - loss: 7.7939 - val_accuracy: 0.6154 - val_loss: 7.4458\n",
      "Epoch 27/400\n",
      "\u001b[1m5/5\u001b[0m \u001b[32m━━━━━━━━━━━━━━━━━━━━\u001b[0m\u001b[37m\u001b[0m \u001b[1m0s\u001b[0m 19ms/step - accuracy: 0.4720 - loss: 7.7288 - val_accuracy: 0.6154 - val_loss: 7.2358\n",
      "Epoch 28/400\n",
      "\u001b[1m5/5\u001b[0m \u001b[32m━━━━━━━━━━━━━━━━━━━━\u001b[0m\u001b[37m\u001b[0m \u001b[1m0s\u001b[0m 19ms/step - accuracy: 0.4568 - loss: 7.7010 - val_accuracy: 0.6154 - val_loss: 7.0292\n",
      "Epoch 29/400\n",
      "\u001b[1m5/5\u001b[0m \u001b[32m━━━━━━━━━━━━━━━━━━━━\u001b[0m\u001b[37m\u001b[0m \u001b[1m0s\u001b[0m 15ms/step - accuracy: 0.4763 - loss: 7.1777 - val_accuracy: 0.6154 - val_loss: 6.8289\n",
      "Epoch 30/400\n",
      "\u001b[1m5/5\u001b[0m \u001b[32m━━━━━━━━━━━━━━━━━━━━\u001b[0m\u001b[37m\u001b[0m \u001b[1m0s\u001b[0m 18ms/step - accuracy: 0.4333 - loss: 7.5411 - val_accuracy: 0.6154 - val_loss: 6.6296\n",
      "Epoch 31/400\n",
      "\u001b[1m5/5\u001b[0m \u001b[32m━━━━━━━━━━━━━━━━━━━━\u001b[0m\u001b[37m\u001b[0m \u001b[1m0s\u001b[0m 17ms/step - accuracy: 0.4303 - loss: 7.3327 - val_accuracy: 0.6154 - val_loss: 6.4350\n",
      "Epoch 32/400\n",
      "\u001b[1m5/5\u001b[0m \u001b[32m━━━━━━━━━━━━━━━━━━━━\u001b[0m\u001b[37m\u001b[0m \u001b[1m0s\u001b[0m 17ms/step - accuracy: 0.5158 - loss: 6.0798 - val_accuracy: 0.6154 - val_loss: 6.2485\n",
      "Epoch 33/400\n",
      "\u001b[1m5/5\u001b[0m \u001b[32m━━━━━━━━━━━━━━━━━━━━\u001b[0m\u001b[37m\u001b[0m \u001b[1m0s\u001b[0m 16ms/step - accuracy: 0.4550 - loss: 6.6395 - val_accuracy: 0.6154 - val_loss: 6.0622\n",
      "Epoch 34/400\n",
      "\u001b[1m5/5\u001b[0m \u001b[32m━━━━━━━━━━━━━━━━━━━━\u001b[0m\u001b[37m\u001b[0m \u001b[1m0s\u001b[0m 16ms/step - accuracy: 0.4520 - loss: 6.4534 - val_accuracy: 0.6154 - val_loss: 5.8791\n",
      "Epoch 35/400\n",
      "\u001b[1m5/5\u001b[0m \u001b[32m━━━━━━━━━━━━━━━━━━━━\u001b[0m\u001b[37m\u001b[0m \u001b[1m0s\u001b[0m 17ms/step - accuracy: 0.4806 - loss: 5.9345 - val_accuracy: 0.6154 - val_loss: 5.7013\n",
      "Epoch 36/400\n",
      "\u001b[1m5/5\u001b[0m \u001b[32m━━━━━━━━━━━━━━━━━━━━\u001b[0m\u001b[37m\u001b[0m \u001b[1m0s\u001b[0m 17ms/step - accuracy: 0.4208 - loss: 6.4064 - val_accuracy: 0.6154 - val_loss: 5.5236\n",
      "Epoch 37/400\n",
      "\u001b[1m5/5\u001b[0m \u001b[32m━━━━━━━━━━━━━━━━━━━━\u001b[0m\u001b[37m\u001b[0m \u001b[1m0s\u001b[0m 16ms/step - accuracy: 0.5002 - loss: 5.3495 - val_accuracy: 0.6154 - val_loss: 5.3548\n",
      "Epoch 38/400\n",
      "\u001b[1m5/5\u001b[0m \u001b[32m━━━━━━━━━━━━━━━━━━━━\u001b[0m\u001b[37m\u001b[0m \u001b[1m0s\u001b[0m 17ms/step - accuracy: 0.4963 - loss: 5.1959 - val_accuracy: 0.6154 - val_loss: 5.1888\n",
      "Epoch 39/400\n",
      "\u001b[1m5/5\u001b[0m \u001b[32m━━━━━━━━━━━━━━━━━━━━\u001b[0m\u001b[37m\u001b[0m \u001b[1m0s\u001b[0m 18ms/step - accuracy: 0.4689 - loss: 5.3294 - val_accuracy: 0.6154 - val_loss: 5.0242\n",
      "Epoch 40/400\n",
      "\u001b[1m5/5\u001b[0m \u001b[32m━━━━━━━━━━━━━━━━━━━━\u001b[0m\u001b[37m\u001b[0m \u001b[1m0s\u001b[0m 23ms/step - accuracy: 0.4724 - loss: 5.1043 - val_accuracy: 0.6154 - val_loss: 4.8631\n",
      "Epoch 41/400\n",
      "\u001b[1m5/5\u001b[0m \u001b[32m━━━━━━━━━━━━━━━━━━━━\u001b[0m\u001b[37m\u001b[0m \u001b[1m0s\u001b[0m 17ms/step - accuracy: 0.5154 - loss: 4.5229 - val_accuracy: 0.6154 - val_loss: 4.7057\n"
     ]
    },
    {
     "data": {
      "text/plain": [
       "<keras.src.callbacks.history.History at 0x2b30a9d2550>"
      ]
     },
     "execution_count": 131,
     "metadata": {},
     "output_type": "execute_result"
    }
   ],
   "source": [
    "from tensorflow.keras.callbacks import EarlyStopping\n",
    "\n",
    "early_stop = EarlyStopping(\n",
    "    monitor='val_accuracy',   # or use 'accuracy' if you want training accuracy\n",
    "    patience=40,               # number of epochs with no improvement after which training will be stopped\n",
    "    mode='max',\n",
    "    restore_best_weights=True\n",
    ")\n",
    "\n",
    "model.fit(\n",
    "    X_train, y_train,\n",
    "    epochs=400,\n",
    "    batch_size=32,\n",
    "    validation_split=0.2,\n",
    "    callbacks=[early_stop]\n",
    ")\n",
    "\n"
   ]
  },
  {
   "cell_type": "code",
   "execution_count": 132,
   "id": "b12998fe",
   "metadata": {},
   "outputs": [
    {
     "name": "stdout",
     "output_type": "stream",
     "text": [
      "\u001b[1m2/2\u001b[0m \u001b[32m━━━━━━━━━━━━━━━━━━━━\u001b[0m\u001b[37m\u001b[0m \u001b[1m0s\u001b[0m 17ms/step - accuracy: 0.4792 - loss: 15.2094\n",
      "Test Accuracy: 0.5000\n"
     ]
    }
   ],
   "source": [
    "loss, accuracy = model.evaluate(X_test, y_test)\n",
    "print(f\"Test Accuracy: {accuracy:.4f}\")"
   ]
  },
  {
   "cell_type": "code",
   "execution_count": 133,
   "id": "6350f4fe",
   "metadata": {},
   "outputs": [
    {
     "name": "stdout",
     "output_type": "stream",
     "text": [
      "\u001b[1m2/2\u001b[0m \u001b[32m━━━━━━━━━━━━━━━━━━━━\u001b[0m\u001b[37m\u001b[0m \u001b[1m0s\u001b[0m 30ms/step\n",
      "              precision    recall  f1-score   support\n",
      "\n",
      "    clapping       0.00      0.00      0.00        24\n",
      "  fingersnap       0.50      1.00      0.67        24\n",
      "\n",
      "    accuracy                           0.50        48\n",
      "   macro avg       0.25      0.50      0.33        48\n",
      "weighted avg       0.25      0.50      0.33        48\n",
      "\n"
     ]
    },
    {
     "name": "stderr",
     "output_type": "stream",
     "text": [
      "c:\\Work\\Python\\NeuralNetwrkOC\\radarml\\Lib\\site-packages\\sklearn\\metrics\\_classification.py:1706: UndefinedMetricWarning: Precision is ill-defined and being set to 0.0 in labels with no predicted samples. Use `zero_division` parameter to control this behavior.\n",
      "  _warn_prf(average, modifier, f\"{metric.capitalize()} is\", result.shape[0])\n",
      "c:\\Work\\Python\\NeuralNetwrkOC\\radarml\\Lib\\site-packages\\sklearn\\metrics\\_classification.py:1706: UndefinedMetricWarning: Precision is ill-defined and being set to 0.0 in labels with no predicted samples. Use `zero_division` parameter to control this behavior.\n",
      "  _warn_prf(average, modifier, f\"{metric.capitalize()} is\", result.shape[0])\n",
      "c:\\Work\\Python\\NeuralNetwrkOC\\radarml\\Lib\\site-packages\\sklearn\\metrics\\_classification.py:1706: UndefinedMetricWarning: Precision is ill-defined and being set to 0.0 in labels with no predicted samples. Use `zero_division` parameter to control this behavior.\n",
      "  _warn_prf(average, modifier, f\"{metric.capitalize()} is\", result.shape[0])\n"
     ]
    }
   ],
   "source": [
    "from sklearn.metrics import classification_report\n",
    "\n",
    "targets = ['clapping', 'fingersnap']\n",
    "\n",
    "# Get predictions\n",
    "y_pred = model.predict(X_test)\n",
    "y_pred_classes = y_pred.argmax(axis=1)  # convert from probabilities to class indices\n",
    "\n",
    "# Print report\n",
    "print(classification_report(y_test, y_pred_classes, target_names=targets))\n"
   ]
  },
  {
   "cell_type": "code",
   "execution_count": 134,
   "id": "58d6b23a",
   "metadata": {},
   "outputs": [
    {
     "data": {
      "image/png": "[encoded data removed]",
      "text/plain": [
       "<Figure size 600x500 with 2 Axes>"
      ]
     },
     "metadata": {},
     "output_type": "display_data"
    }
   ],
   "source": [
    "from sklearn.metrics import confusion_matrix\n",
    "import seaborn as sns\n",
    "import matplotlib.pyplot as plt\n",
    "\n",
    "cm = confusion_matrix(y_test, y_pred_classes)\n",
    "\n",
    "plt.figure(figsize=(6, 5))\n",
    "sns.heatmap(cm, annot=True, fmt=\"d\", cmap=\"Blues\",\n",
    "            xticklabels=targets,\n",
    "            yticklabels=targets)\n",
    "plt.ylabel(\"True Label\")\n",
    "plt.xlabel(\"Predicted Label\")\n",
    "plt.title(\"Confusion Matrix\")\n",
    "plt.show()\n"
   ]
  },
  {
   "cell_type": "code",
   "execution_count": 135,
   "id": "b4552c06",
   "metadata": {},
   "outputs": [],
   "source": [
    "import re\n",
    "import numpy as np\n",
    "\n",
    "def parse_weights(input_str):\n",
    "    # Regex to match variable entries\n",
    "    pattern = r\"<Variable path=(.*?), shape=(.*?), dtype=.*?, value=([\\s\\S]*?)>\"\n",
    "\n",
    "    matches = re.findall(pattern, input_str)\n",
    "    weights_dict = {}\n",
    "    labels = [\"input_hidden_weights\", \"hidden_biases\", \"hidden_output_weights\", \"output_biases\"]\n",
    "    idx = 0\n",
    "    for var_name, var_shape, value_str in matches:\n",
    "        # get the shape\n",
    "        var_shape = tuple(int(dim) for dim in var_shape.strip('()').split(',') if dim)\n",
    "        # Clean up variable name\n",
    "        var_name = var_name.strip()\n",
    "        cleaned_value = re.sub(r'\\s+', ' ', value_str.strip())\n",
    "        cleaned_value = cleaned_value.replace('[', '')\n",
    "        cleaned_value = cleaned_value.replace(']', '')\n",
    "        cleaned_value = cleaned_value.strip().split(' ')\n",
    "        cleaned_value = [float(x) for x in cleaned_value if x]  # Convert to float and remove empty strings\n",
    "        value = np.array(cleaned_value).reshape(var_shape)\n",
    "        weights_dict[labels[idx]] = value\n",
    "        idx += 1\n",
    "\n",
    "    return weights_dict\n"
   ]
  },
  {
   "cell_type": "code",
   "execution_count": 136,
   "id": "de7baec2",
   "metadata": {},
   "outputs": [],
   "source": [
    "import numpy as np\n",
    "from tensorflow.keras.models import Sequential\n",
    "from tensorflow.keras.layers import Dense\n",
    "from sklearn.metrics import accuracy_score\n",
    "from tensorflow.keras.utils import to_categorical\n",
    "\n",
    "def evaluate_custom_mlp(X, y, weights_dict, is_categorical=False, shape=(5, 8, 2)):\n",
    "    \"\"\"\n",
    "    Evaluate accuracy of a manually-weighted MLP model.\n",
    "\n",
    "    Parameters:\n",
    "        X (np.ndarray): Input data, shape (num_samples, 4)\n",
    "        y (np.ndarray): Labels, shape (num_samples,) or one-hot (num_samples, 3)\n",
    "        weights_dict (dict): Dictionary with keys:\n",
    "            'input_hidden_weights', 'hidden_biases',\n",
    "            'hidden_output_weights', 'output_biases'\n",
    "        is_categorical (bool): Set True if y is one-hot encoded\n",
    "\n",
    "    Returns:\n",
    "        float: Accuracy score\n",
    "    \"\"\"\n",
    "\n",
    "    # 1. Build model with matching architecture\n",
    "    model = Sequential([\n",
    "        Dense(shape[1], input_shape=(shape[0],), activation='relu', name='hidden'),\n",
    "        Dense(shape[2], activation='softmax', name='output')\n",
    "    ])\n",
    "\n",
    "    # 2. Set custom weights\n",
    "    model.get_layer('hidden').set_weights([\n",
    "        np.array(weights_dict['input_hidden_weights']),\n",
    "        np.array(weights_dict['hidden_biases'])\n",
    "    ])\n",
    "\n",
    "    model.get_layer('output').set_weights([\n",
    "        np.array(weights_dict['hidden_output_weights']),\n",
    "        np.array(weights_dict['output_biases'])\n",
    "    ])\n",
    "\n",
    "    # 3. Get predictions\n",
    "    predictions = model.predict(X)\n",
    "    predicted_classes = np.argmax(predictions, axis=1)\n",
    "\n",
    "    # 4. Process ground truth\n",
    "    if is_categorical:\n",
    "        true_classes = np.argmax(y, axis=1)\n",
    "    else:\n",
    "        true_classes = y\n",
    "\n",
    "    # 5. Compute accuracy\n",
    "    accuracy = accuracy_score(true_classes, predicted_classes)\n",
    "    return accuracy\n"
   ]
  },
  {
   "cell_type": "code",
   "execution_count": 137,
   "id": "6af63427",
   "metadata": {},
   "outputs": [],
   "source": [
    "import numpy as np\n",
    "\n",
    "def round_weights(weights_dict, decimals=2, scale=0):\n",
    "    \"\"\"\n",
    "    Rounds all numpy array values in the input dictionary to the given number of decimals,\n",
    "    with an optional scaling factor applied before rounding.\n",
    "\n",
    "    Parameters:\n",
    "        weights_dict (dict): Dictionary with keys mapping to numpy arrays.\n",
    "        decimals (int): Number of decimal places to round to.\n",
    "        scale (int): Power of 10 to scale the values before rounding. For example,\n",
    "                     scale=2 multiplies values by 100 before rounding.\n",
    "\n",
    "    Returns:\n",
    "        dict: New dictionary with rounded values.\n",
    "    \"\"\"\n",
    "    rounded_dict = {}\n",
    "    factor = 10 ** scale\n",
    "\n",
    "    for key, value in weights_dict.items():\n",
    "        if isinstance(value, np.ndarray):\n",
    "            scaled = value * factor\n",
    "            rounded = np.round(scaled, decimals)\n",
    "            rounded_dict[key] = rounded\n",
    "        else:\n",
    "            rounded_dict[key] = value  # Leave untouched if not an ndarray\n",
    "\n",
    "    return rounded_dict\n"
   ]
  },
  {
   "cell_type": "code",
   "execution_count": 138,
   "id": "a6dc6889",
   "metadata": {},
   "outputs": [
    {
     "data": {
      "text/plain": [
       "{'input_hidden_weights': array([[-0.2037732 , -0.49823344, -0.322838  ],\n",
       "        [ 0.67008805, -0.10619771, -0.3414073 ]]),\n",
       " 'hidden_biases': array([-0.00496463,  0.        ,  0.        ]),\n",
       " 'hidden_output_weights': array([[-1.0389619 , -0.30973348],\n",
       "        [-0.55857044, -0.77458996],\n",
       "        [ 0.81182146,  0.16208148]]),\n",
       " 'output_biases': array([ 0.00496549, -0.00496549])}"
      ]
     },
     "execution_count": 138,
     "metadata": {},
     "output_type": "execute_result"
    }
   ],
   "source": [
    "parse_weights(str(model.weights))"
   ]
  },
  {
   "cell_type": "code",
   "execution_count": 139,
   "id": "7ab02a7d",
   "metadata": {},
   "outputs": [
    {
     "data": {
      "text/plain": [
       "{'input_hidden_weights': array([[-20., -50., -32.],\n",
       "        [ 67., -11., -34.]]),\n",
       " 'hidden_biases': array([-0.,  0.,  0.]),\n",
       " 'hidden_output_weights': array([[-104.,  -31.],\n",
       "        [ -56.,  -77.],\n",
       "        [  81.,   16.]]),\n",
       " 'output_biases': array([ 0., -0.])}"
      ]
     },
     "execution_count": 139,
     "metadata": {},
     "output_type": "execute_result"
    }
   ],
   "source": [
    "new_weights = round_weights(parse_weights(str(model.weights)), decimals=0 , scale=2)\n",
    "new_weights"
   ]
  },
  {
   "cell_type": "code",
   "execution_count": 140,
   "id": "99c71b79",
   "metadata": {},
   "outputs": [
    {
     "name": "stderr",
     "output_type": "stream",
     "text": [
      "c:\\Work\\Python\\NeuralNetwrkOC\\radarml\\Lib\\site-packages\\keras\\src\\layers\\core\\dense.py:93: UserWarning: Do not pass an `input_shape`/`input_dim` argument to a layer. When using Sequential models, prefer using an `Input(shape)` object as the first layer in the model instead.\n",
      "  super().__init__(activity_regularizer=activity_regularizer, **kwargs)\n"
     ]
    },
    {
     "name": "stdout",
     "output_type": "stream",
     "text": [
      "\u001b[1m8/8\u001b[0m \u001b[32m━━━━━━━━━━━━━━━━━━━━\u001b[0m\u001b[37m\u001b[0m \u001b[1m0s\u001b[0m 5ms/step \n",
      "Accuracy: 0.5\n"
     ]
    }
   ],
   "source": [
    "accuracy = evaluate_custom_mlp(X, y, new_weights, is_categorical=False, shape=shape)\n",
    "print(\"Accuracy:\", accuracy)"
   ]
  },
  {
   "cell_type": "markdown",
   "id": "8df654af",
   "metadata": {},
   "source": [
    "### tflite"
   ]
  }
 ],
 "metadata": {
  "kernelspec": {
   "display_name": "radarml",
   "language": "python",
   "name": "python3"
  },
  "language_info": {
   "codemirror_mode": {
    "name": "ipython",
    "version": 3
   },
   "file_extension": ".py",
   "mimetype": "text/x-python",
   "name": "python",
   "nbconvert_exporter": "python",
   "pygments_lexer": "ipython3",
   "version": "3.11.9"
  }
 },
 "nbformat": 4,
 "nbformat_minor": 5
}

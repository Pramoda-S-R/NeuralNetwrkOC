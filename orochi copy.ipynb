{
 "cells": [
  {
   "cell_type": "code",
   "execution_count": 138,
   "id": "a4ccfe98",
   "metadata": {},
   "outputs": [],
   "source": [
    "import pandas as pd"
   ]
  },
  {
   "cell_type": "code",
   "execution_count": 139,
   "id": "36278ca5",
   "metadata": {},
   "outputs": [],
   "source": [
    "files = [\"./data/orochi_data/clapping.txt\",\n",
    "         \"./data/orochi_data/fingersnap.txt\",]\n",
    "\n",
    "dfs = []\n",
    "\n",
    "for idx, file in enumerate(files):\n",
    "    with open(file, \"r\") as f:\n",
    "        lines = f.readlines()\n",
    "        df = pd.DataFrame([x.split() for x in lines[0:120]])\n",
    "        df.drop(columns=[0, 1, 2, 3, 4, 5, 8, 9], inplace=True)\n",
    "        # add another column with the file name\n",
    "        df[\"gesture\"] = idx\n",
    "        df.columns = [\"f1\", \"f2\", \"gesture\"]\n",
    "        dfs.append(df)"
   ]
  },
  {
   "cell_type": "code",
   "execution_count": 140,
   "id": "731d9e65",
   "metadata": {},
   "outputs": [],
   "source": [
    "df = pd.DataFrame()\n",
    "for d in dfs:\n",
    "    df = pd.concat([df, d], ignore_index=True)\n",
    "    \n",
    "X = df[[\"f1\", \"f2\"]]\n",
    "y = df[\"gesture\"]"
   ]
  },
  {
   "cell_type": "code",
   "execution_count": 141,
   "id": "30dfe311",
   "metadata": {},
   "outputs": [],
   "source": [
    "# convert X from hex string to int\n",
    "X = X.map(lambda x: int(x, 16))"
   ]
  },
  {
   "cell_type": "code",
   "execution_count": 142,
   "id": "4c1dccc7",
   "metadata": {},
   "outputs": [],
   "source": [
    "from sklearn.model_selection import train_test_split\n",
    "\n",
    "X_train, X_test, y_train, y_test = train_test_split(\n",
    "    X, y, test_size=0.2, stratify=y, random_state=42)\n"
   ]
  },
  {
   "cell_type": "code",
   "execution_count": 229,
   "id": "87389083",
   "metadata": {},
   "outputs": [
    {
     "name": "stderr",
     "output_type": "stream",
     "text": [
      "c:\\Pyth\\radarobj_detection\\radarml\\Lib\\site-packages\\keras\\src\\layers\\core\\dense.py:93: UserWarning: Do not pass an `input_shape`/`input_dim` argument to a layer. When using Sequential models, prefer using an `Input(shape)` object as the first layer in the model instead.\n",
      "  super().__init__(activity_regularizer=activity_regularizer, **kwargs)\n"
     ]
    }
   ],
   "source": [
    "from tensorflow.keras.models import Sequential\n",
    "from tensorflow.keras.layers import Dense\n",
    "\n",
    "shape = (2,3,2)\n",
    "\n",
    "model = Sequential([\n",
    "    Dense(shape[1], activation='relu', input_shape=(shape[0],), name=\"hidden\"),\n",
    "    Dense(shape[2], activation='softmax')\n",
    "])\n",
    "model.compile(optimizer='adam', loss='sparse_categorical_crossentropy', metrics=['accuracy'])\n"
   ]
  },
  {
   "cell_type": "code",
   "execution_count": 232,
   "id": "a75337c4",
   "metadata": {},
   "outputs": [
    {
     "name": "stdout",
     "output_type": "stream",
     "text": [
      "Epoch 1/400\n",
      "\u001b[1m5/5\u001b[0m \u001b[32m━━━━━━━━━━━━━━━━━━━━\u001b[0m\u001b[37m\u001b[0m \u001b[1m0s\u001b[0m 24ms/step - accuracy: 0.5141 - loss: 5.3503 - val_accuracy: 0.3846 - val_loss: 6.2097\n",
      "Epoch 2/400\n",
      "\u001b[1m5/5\u001b[0m \u001b[32m━━━━━━━━━━━━━━━━━━━━\u001b[0m\u001b[37m\u001b[0m \u001b[1m0s\u001b[0m 13ms/step - accuracy: 0.5046 - loss: 4.9695 - val_accuracy: 0.3846 - val_loss: 5.7148\n",
      "Epoch 3/400\n",
      "\u001b[1m5/5\u001b[0m \u001b[32m━━━━━━━━━━━━━━━━━━━━\u001b[0m\u001b[37m\u001b[0m \u001b[1m0s\u001b[0m 11ms/step - accuracy: 0.5211 - loss: 4.2868 - val_accuracy: 0.3846 - val_loss: 5.2240\n",
      "Epoch 4/400\n",
      "\u001b[1m5/5\u001b[0m \u001b[32m━━━━━━━━━━━━━━━━━━━━\u001b[0m\u001b[37m\u001b[0m \u001b[1m0s\u001b[0m 17ms/step - accuracy: 0.5406 - loss: 3.8270 - val_accuracy: 0.3846 - val_loss: 4.7279\n",
      "Epoch 5/400\n",
      "\u001b[1m5/5\u001b[0m \u001b[32m━━━━━━━━━━━━━━━━━━━━\u001b[0m\u001b[37m\u001b[0m \u001b[1m0s\u001b[0m 16ms/step - accuracy: 0.5150 - loss: 3.6968 - val_accuracy: 0.3846 - val_loss: 4.2245\n",
      "Epoch 6/400\n",
      "\u001b[1m5/5\u001b[0m \u001b[32m━━━━━━━━━━━━━━━━━━━━\u001b[0m\u001b[37m\u001b[0m \u001b[1m0s\u001b[0m 18ms/step - accuracy: 0.5076 - loss: 3.2701 - val_accuracy: 0.3846 - val_loss: 3.7239\n",
      "Epoch 7/400\n",
      "\u001b[1m5/5\u001b[0m \u001b[32m━━━━━━━━━━━━━━━━━━━━\u001b[0m\u001b[37m\u001b[0m \u001b[1m0s\u001b[0m 20ms/step - accuracy: 0.5706 - loss: 2.4943 - val_accuracy: 0.3846 - val_loss: 3.2361\n",
      "Epoch 8/400\n",
      "\u001b[1m5/5\u001b[0m \u001b[32m━━━━━━━━━━━━━━━━━━━━\u001b[0m\u001b[37m\u001b[0m \u001b[1m0s\u001b[0m 12ms/step - accuracy: 0.5376 - loss: 2.3297 - val_accuracy: 0.3846 - val_loss: 2.7443\n",
      "Epoch 9/400\n",
      "\u001b[1m5/5\u001b[0m \u001b[32m━━━━━━━━━━━━━━━━━━━━\u001b[0m\u001b[37m\u001b[0m \u001b[1m0s\u001b[0m 13ms/step - accuracy: 0.5415 - loss: 1.9712 - val_accuracy: 0.3846 - val_loss: 2.2534\n",
      "Epoch 10/400\n",
      "\u001b[1m5/5\u001b[0m \u001b[32m━━━━━━━━━━━━━━━━━━━━\u001b[0m\u001b[37m\u001b[0m \u001b[1m0s\u001b[0m 17ms/step - accuracy: 0.5358 - loss: 1.6003 - val_accuracy: 0.3846 - val_loss: 1.7756\n",
      "Epoch 11/400\n",
      "\u001b[1m5/5\u001b[0m \u001b[32m━━━━━━━━━━━━━━━━━━━━\u001b[0m\u001b[37m\u001b[0m \u001b[1m0s\u001b[0m 16ms/step - accuracy: 0.5302 - loss: 1.2656 - val_accuracy: 0.3846 - val_loss: 1.3366\n",
      "Epoch 12/400\n",
      "\u001b[1m5/5\u001b[0m \u001b[32m━━━━━━━━━━━━━━━━━━━━\u001b[0m\u001b[37m\u001b[0m \u001b[1m0s\u001b[0m 17ms/step - accuracy: 0.5081 - loss: 0.9681 - val_accuracy: 0.3846 - val_loss: 0.9751\n",
      "Epoch 13/400\n",
      "\u001b[1m5/5\u001b[0m \u001b[32m━━━━━━━━━━━━━━━━━━━━\u001b[0m\u001b[37m\u001b[0m \u001b[1m0s\u001b[0m 16ms/step - accuracy: 0.6149 - loss: 0.6420 - val_accuracy: 0.4359 - val_loss: 0.7313\n",
      "Epoch 14/400\n",
      "\u001b[1m5/5\u001b[0m \u001b[32m━━━━━━━━━━━━━━━━━━━━\u001b[0m\u001b[37m\u001b[0m \u001b[1m0s\u001b[0m 14ms/step - accuracy: 0.7501 - loss: 0.5223 - val_accuracy: 0.6154 - val_loss: 0.5743\n",
      "Epoch 15/400\n",
      "\u001b[1m5/5\u001b[0m \u001b[32m━━━━━━━━━━━━━━━━━━━━\u001b[0m\u001b[37m\u001b[0m \u001b[1m0s\u001b[0m 19ms/step - accuracy: 0.8344 - loss: 0.4441 - val_accuracy: 0.7179 - val_loss: 0.4892\n",
      "Epoch 16/400\n",
      "\u001b[1m5/5\u001b[0m \u001b[32m━━━━━━━━━━━━━━━━━━━━\u001b[0m\u001b[37m\u001b[0m \u001b[1m0s\u001b[0m 16ms/step - accuracy: 0.8566 - loss: 0.4105 - val_accuracy: 0.8462 - val_loss: 0.4448\n",
      "Epoch 17/400\n",
      "\u001b[1m5/5\u001b[0m \u001b[32m━━━━━━━━━━━━━━━━━━━━\u001b[0m\u001b[37m\u001b[0m \u001b[1m0s\u001b[0m 16ms/step - accuracy: 0.9074 - loss: 0.4071 - val_accuracy: 0.8462 - val_loss: 0.4218\n",
      "Epoch 18/400\n",
      "\u001b[1m5/5\u001b[0m \u001b[32m━━━━━━━━━━━━━━━━━━━━\u001b[0m\u001b[37m\u001b[0m \u001b[1m0s\u001b[0m 21ms/step - accuracy: 0.9044 - loss: 0.3962 - val_accuracy: 0.8462 - val_loss: 0.4079\n",
      "Epoch 19/400\n",
      "\u001b[1m5/5\u001b[0m \u001b[32m━━━━━━━━━━━━━━━━━━━━\u001b[0m\u001b[37m\u001b[0m \u001b[1m0s\u001b[0m 17ms/step - accuracy: 0.8896 - loss: 0.4081 - val_accuracy: 0.8462 - val_loss: 0.4007\n",
      "Epoch 20/400\n",
      "\u001b[1m5/5\u001b[0m \u001b[32m━━━━━━━━━━━━━━━━━━━━\u001b[0m\u001b[37m\u001b[0m \u001b[1m0s\u001b[0m 16ms/step - accuracy: 0.8840 - loss: 0.4020 - val_accuracy: 0.8462 - val_loss: 0.3961\n",
      "Epoch 21/400\n",
      "\u001b[1m5/5\u001b[0m \u001b[32m━━━━━━━━━━━━━━━━━━━━\u001b[0m\u001b[37m\u001b[0m \u001b[1m0s\u001b[0m 16ms/step - accuracy: 0.9078 - loss: 0.3805 - val_accuracy: 0.8462 - val_loss: 0.3931\n",
      "Epoch 22/400\n",
      "\u001b[1m5/5\u001b[0m \u001b[32m━━━━━━━━━━━━━━━━━━━━\u001b[0m\u001b[37m\u001b[0m \u001b[1m0s\u001b[0m 15ms/step - accuracy: 0.9187 - loss: 0.3578 - val_accuracy: 0.8462 - val_loss: 0.3911\n",
      "Epoch 23/400\n",
      "\u001b[1m5/5\u001b[0m \u001b[32m━━━━━━━━━━━━━━━━━━━━\u001b[0m\u001b[37m\u001b[0m \u001b[1m0s\u001b[0m 17ms/step - accuracy: 0.8992 - loss: 0.3880 - val_accuracy: 0.8462 - val_loss: 0.3908\n",
      "Epoch 24/400\n",
      "\u001b[1m5/5\u001b[0m \u001b[32m━━━━━━━━━━━━━━━━━━━━\u001b[0m\u001b[37m\u001b[0m \u001b[1m0s\u001b[0m 15ms/step - accuracy: 0.9100 - loss: 0.3732 - val_accuracy: 0.8462 - val_loss: 0.3901\n",
      "Epoch 25/400\n",
      "\u001b[1m5/5\u001b[0m \u001b[32m━━━━━━━━━━━━━━━━━━━━\u001b[0m\u001b[37m\u001b[0m \u001b[1m0s\u001b[0m 15ms/step - accuracy: 0.8992 - loss: 0.3701 - val_accuracy: 0.8462 - val_loss: 0.3898\n",
      "Epoch 26/400\n",
      "\u001b[1m5/5\u001b[0m \u001b[32m━━━━━━━━━━━━━━━━━━━━\u001b[0m\u001b[37m\u001b[0m \u001b[1m0s\u001b[0m 17ms/step - accuracy: 0.8770 - loss: 0.4075 - val_accuracy: 0.8462 - val_loss: 0.3903\n",
      "Epoch 27/400\n",
      "\u001b[1m5/5\u001b[0m \u001b[32m━━━━━━━━━━━━━━━━━━━━\u001b[0m\u001b[37m\u001b[0m \u001b[1m0s\u001b[0m 17ms/step - accuracy: 0.9070 - loss: 0.3647 - val_accuracy: 0.8718 - val_loss: 0.3887\n",
      "Epoch 28/400\n",
      "\u001b[1m5/5\u001b[0m \u001b[32m━━━━━━━━━━━━━━━━━━━━\u001b[0m\u001b[37m\u001b[0m \u001b[1m0s\u001b[0m 17ms/step - accuracy: 0.8966 - loss: 0.3913 - val_accuracy: 0.8718 - val_loss: 0.3888\n",
      "Epoch 29/400\n",
      "\u001b[1m5/5\u001b[0m \u001b[32m━━━━━━━━━━━━━━━━━━━━\u001b[0m\u001b[37m\u001b[0m \u001b[1m0s\u001b[0m 20ms/step - accuracy: 0.9183 - loss: 0.3776 - val_accuracy: 0.8718 - val_loss: 0.3879\n",
      "Epoch 30/400\n",
      "\u001b[1m5/5\u001b[0m \u001b[32m━━━━━━━━━━━━━━━━━━━━\u001b[0m\u001b[37m\u001b[0m \u001b[1m0s\u001b[0m 17ms/step - accuracy: 0.8975 - loss: 0.3649 - val_accuracy: 0.8718 - val_loss: 0.3862\n",
      "Epoch 31/400\n",
      "\u001b[1m5/5\u001b[0m \u001b[32m━━━━━━━━━━━━━━━━━━━━\u001b[0m\u001b[37m\u001b[0m \u001b[1m0s\u001b[0m 14ms/step - accuracy: 0.9152 - loss: 0.3522 - val_accuracy: 0.8718 - val_loss: 0.3841\n",
      "Epoch 32/400\n",
      "\u001b[1m5/5\u001b[0m \u001b[32m━━━━━━━━━━━━━━━━━━━━\u001b[0m\u001b[37m\u001b[0m \u001b[1m0s\u001b[0m 17ms/step - accuracy: 0.9126 - loss: 0.3535 - val_accuracy: 0.8718 - val_loss: 0.3827\n",
      "Epoch 33/400\n",
      "\u001b[1m5/5\u001b[0m \u001b[32m━━━━━━━━━━━━━━━━━━━━\u001b[0m\u001b[37m\u001b[0m \u001b[1m0s\u001b[0m 16ms/step - accuracy: 0.9083 - loss: 0.3480 - val_accuracy: 0.8718 - val_loss: 0.3803\n",
      "Epoch 34/400\n",
      "\u001b[1m5/5\u001b[0m \u001b[32m━━━━━━━━━━━━━━━━━━━━\u001b[0m\u001b[37m\u001b[0m \u001b[1m0s\u001b[0m 11ms/step - accuracy: 0.9044 - loss: 0.3677 - val_accuracy: 0.8718 - val_loss: 0.3770\n",
      "Epoch 35/400\n",
      "\u001b[1m5/5\u001b[0m \u001b[32m━━━━━━━━━━━━━━━━━━━━\u001b[0m\u001b[37m\u001b[0m \u001b[1m0s\u001b[0m 16ms/step - accuracy: 0.8948 - loss: 0.3790 - val_accuracy: 0.8718 - val_loss: 0.3739\n",
      "Epoch 36/400\n",
      "\u001b[1m5/5\u001b[0m \u001b[32m━━━━━━━━━━━━━━━━━━━━\u001b[0m\u001b[37m\u001b[0m \u001b[1m0s\u001b[0m 18ms/step - accuracy: 0.8918 - loss: 0.3545 - val_accuracy: 0.9231 - val_loss: 0.3705\n",
      "Epoch 37/400\n",
      "\u001b[1m5/5\u001b[0m \u001b[32m━━━━━━━━━━━━━━━━━━━━\u001b[0m\u001b[37m\u001b[0m \u001b[1m0s\u001b[0m 19ms/step - accuracy: 0.8922 - loss: 0.3606 - val_accuracy: 0.9231 - val_loss: 0.3672\n",
      "Epoch 38/400\n",
      "\u001b[1m5/5\u001b[0m \u001b[32m━━━━━━━━━━━━━━━━━━━━\u001b[0m\u001b[37m\u001b[0m \u001b[1m0s\u001b[0m 15ms/step - accuracy: 0.8749 - loss: 0.3715 - val_accuracy: 0.9231 - val_loss: 0.3643\n",
      "Epoch 39/400\n",
      "\u001b[1m5/5\u001b[0m \u001b[32m━━━━━━━━━━━━━━━━━━━━\u001b[0m\u001b[37m\u001b[0m \u001b[1m0s\u001b[0m 15ms/step - accuracy: 0.8970 - loss: 0.3360 - val_accuracy: 0.9231 - val_loss: 0.3613\n",
      "Epoch 40/400\n",
      "\u001b[1m5/5\u001b[0m \u001b[32m━━━━━━━━━━━━━━━━━━━━\u001b[0m\u001b[37m\u001b[0m \u001b[1m0s\u001b[0m 15ms/step - accuracy: 0.8775 - loss: 0.3712 - val_accuracy: 0.9231 - val_loss: 0.3587\n",
      "Epoch 41/400\n",
      "\u001b[1m5/5\u001b[0m \u001b[32m━━━━━━━━━━━━━━━━━━━━\u001b[0m\u001b[37m\u001b[0m \u001b[1m0s\u001b[0m 15ms/step - accuracy: 0.8788 - loss: 0.3632 - val_accuracy: 0.9231 - val_loss: 0.3560\n",
      "Epoch 42/400\n",
      "\u001b[1m5/5\u001b[0m \u001b[32m━━━━━━━━━━━━━━━━━━━━\u001b[0m\u001b[37m\u001b[0m \u001b[1m0s\u001b[0m 21ms/step - accuracy: 0.9100 - loss: 0.3371 - val_accuracy: 0.9231 - val_loss: 0.3533\n",
      "Epoch 43/400\n",
      "\u001b[1m5/5\u001b[0m \u001b[32m━━━━━━━━━━━━━━━━━━━━\u001b[0m\u001b[37m\u001b[0m \u001b[1m0s\u001b[0m 29ms/step - accuracy: 0.8853 - loss: 0.3512 - val_accuracy: 0.9231 - val_loss: 0.3509\n",
      "Epoch 44/400\n",
      "\u001b[1m5/5\u001b[0m \u001b[32m━━━━━━━━━━━━━━━━━━━━\u001b[0m\u001b[37m\u001b[0m \u001b[1m0s\u001b[0m 17ms/step - accuracy: 0.8892 - loss: 0.3758 - val_accuracy: 0.9231 - val_loss: 0.3491\n",
      "Epoch 45/400\n",
      "\u001b[1m5/5\u001b[0m \u001b[32m━━━━━━━━━━━━━━━━━━━━\u001b[0m\u001b[37m\u001b[0m \u001b[1m0s\u001b[0m 15ms/step - accuracy: 0.9087 - loss: 0.3400 - val_accuracy: 0.9231 - val_loss: 0.3468\n",
      "Epoch 46/400\n",
      "\u001b[1m5/5\u001b[0m \u001b[32m━━━━━━━━━━━━━━━━━━━━\u001b[0m\u001b[37m\u001b[0m \u001b[1m0s\u001b[0m 16ms/step - accuracy: 0.9196 - loss: 0.3292 - val_accuracy: 0.9231 - val_loss: 0.3453\n",
      "Epoch 47/400\n",
      "\u001b[1m5/5\u001b[0m \u001b[32m━━━━━━━━━━━━━━━━━━━━\u001b[0m\u001b[37m\u001b[0m \u001b[1m0s\u001b[0m 14ms/step - accuracy: 0.9031 - loss: 0.3571 - val_accuracy: 0.9231 - val_loss: 0.3439\n",
      "Epoch 48/400\n",
      "\u001b[1m5/5\u001b[0m \u001b[32m━━━━━━━━━━━━━━━━━━━━\u001b[0m\u001b[37m\u001b[0m \u001b[1m0s\u001b[0m 12ms/step - accuracy: 0.8966 - loss: 0.3349 - val_accuracy: 0.9231 - val_loss: 0.3422\n",
      "Epoch 49/400\n",
      "\u001b[1m5/5\u001b[0m \u001b[32m━━━━━━━━━━━━━━━━━━━━\u001b[0m\u001b[37m\u001b[0m \u001b[1m0s\u001b[0m 17ms/step - accuracy: 0.8966 - loss: 0.3535 - val_accuracy: 0.9231 - val_loss: 0.3406\n",
      "Epoch 50/400\n",
      "\u001b[1m5/5\u001b[0m \u001b[32m━━━━━━━━━━━━━━━━━━━━\u001b[0m\u001b[37m\u001b[0m \u001b[1m0s\u001b[0m 15ms/step - accuracy: 0.9131 - loss: 0.3254 - val_accuracy: 0.9231 - val_loss: 0.3392\n",
      "Epoch 51/400\n",
      "\u001b[1m5/5\u001b[0m \u001b[32m━━━━━━━━━━━━━━━━━━━━\u001b[0m\u001b[37m\u001b[0m \u001b[1m0s\u001b[0m 15ms/step - accuracy: 0.9048 - loss: 0.3512 - val_accuracy: 0.9231 - val_loss: 0.3384\n",
      "Epoch 52/400\n",
      "\u001b[1m5/5\u001b[0m \u001b[32m━━━━━━━━━━━━━━━━━━━━\u001b[0m\u001b[37m\u001b[0m \u001b[1m0s\u001b[0m 16ms/step - accuracy: 0.9157 - loss: 0.3137 - val_accuracy: 0.9231 - val_loss: 0.3363\n",
      "Epoch 53/400\n",
      "\u001b[1m5/5\u001b[0m \u001b[32m━━━━━━━━━━━━━━━━━━━━\u001b[0m\u001b[37m\u001b[0m \u001b[1m0s\u001b[0m 14ms/step - accuracy: 0.8827 - loss: 0.3653 - val_accuracy: 0.9231 - val_loss: 0.3350\n",
      "Epoch 54/400\n",
      "\u001b[1m5/5\u001b[0m \u001b[32m━━━━━━━━━━━━━━━━━━━━\u001b[0m\u001b[37m\u001b[0m \u001b[1m0s\u001b[0m 12ms/step - accuracy: 0.8831 - loss: 0.3480 - val_accuracy: 0.9231 - val_loss: 0.3336\n",
      "Epoch 55/400\n",
      "\u001b[1m5/5\u001b[0m \u001b[32m━━━━━━━━━━━━━━━━━━━━\u001b[0m\u001b[37m\u001b[0m \u001b[1m0s\u001b[0m 14ms/step - accuracy: 0.8970 - loss: 0.3315 - val_accuracy: 0.9231 - val_loss: 0.3318\n",
      "Epoch 56/400\n",
      "\u001b[1m5/5\u001b[0m \u001b[32m━━━━━━━━━━━━━━━━━━━━\u001b[0m\u001b[37m\u001b[0m \u001b[1m0s\u001b[0m 16ms/step - accuracy: 0.9022 - loss: 0.3418 - val_accuracy: 0.9231 - val_loss: 0.3312\n",
      "Epoch 57/400\n",
      "\u001b[1m5/5\u001b[0m \u001b[32m━━━━━━━━━━━━━━━━━━━━\u001b[0m\u001b[37m\u001b[0m \u001b[1m0s\u001b[0m 15ms/step - accuracy: 0.9074 - loss: 0.3221 - val_accuracy: 0.9231 - val_loss: 0.3297\n",
      "Epoch 58/400\n",
      "\u001b[1m5/5\u001b[0m \u001b[32m━━━━━━━━━━━━━━━━━━━━\u001b[0m\u001b[37m\u001b[0m \u001b[1m0s\u001b[0m 16ms/step - accuracy: 0.8853 - loss: 0.3346 - val_accuracy: 0.9231 - val_loss: 0.3283\n",
      "Epoch 59/400\n",
      "\u001b[1m5/5\u001b[0m \u001b[32m━━━━━━━━━━━━━━━━━━━━\u001b[0m\u001b[37m\u001b[0m \u001b[1m0s\u001b[0m 16ms/step - accuracy: 0.8918 - loss: 0.3485 - val_accuracy: 0.9231 - val_loss: 0.3273\n",
      "Epoch 60/400\n",
      "\u001b[1m5/5\u001b[0m \u001b[32m━━━━━━━━━━━━━━━━━━━━\u001b[0m\u001b[37m\u001b[0m \u001b[1m0s\u001b[0m 16ms/step - accuracy: 0.8957 - loss: 0.3527 - val_accuracy: 0.9231 - val_loss: 0.3263\n",
      "Epoch 61/400\n",
      "\u001b[1m5/5\u001b[0m \u001b[32m━━━━━━━━━━━━━━━━━━━━\u001b[0m\u001b[37m\u001b[0m \u001b[1m0s\u001b[0m 14ms/step - accuracy: 0.9196 - loss: 0.3138 - val_accuracy: 0.9231 - val_loss: 0.3249\n",
      "Epoch 62/400\n",
      "\u001b[1m5/5\u001b[0m \u001b[32m━━━━━━━━━━━━━━━━━━━━\u001b[0m\u001b[37m\u001b[0m \u001b[1m0s\u001b[0m 13ms/step - accuracy: 0.9165 - loss: 0.3281 - val_accuracy: 0.9231 - val_loss: 0.3241\n",
      "Epoch 63/400\n",
      "\u001b[1m5/5\u001b[0m \u001b[32m━━━━━━━━━━━━━━━━━━━━\u001b[0m\u001b[37m\u001b[0m \u001b[1m0s\u001b[0m 16ms/step - accuracy: 0.9222 - loss: 0.3024 - val_accuracy: 0.9231 - val_loss: 0.3220\n",
      "Epoch 64/400\n",
      "\u001b[1m5/5\u001b[0m \u001b[32m━━━━━━━━━━━━━━━━━━━━\u001b[0m\u001b[37m\u001b[0m \u001b[1m0s\u001b[0m 16ms/step - accuracy: 0.8970 - loss: 0.3254 - val_accuracy: 0.9231 - val_loss: 0.3213\n",
      "Epoch 65/400\n",
      "\u001b[1m5/5\u001b[0m \u001b[32m━━━━━━━━━━━━━━━━━━━━\u001b[0m\u001b[37m\u001b[0m \u001b[1m0s\u001b[0m 16ms/step - accuracy: 0.9096 - loss: 0.3184 - val_accuracy: 0.9231 - val_loss: 0.3208\n",
      "Epoch 66/400\n",
      "\u001b[1m5/5\u001b[0m \u001b[32m━━━━━━━━━━━━━━━━━━━━\u001b[0m\u001b[37m\u001b[0m \u001b[1m0s\u001b[0m 16ms/step - accuracy: 0.9170 - loss: 0.3123 - val_accuracy: 0.9231 - val_loss: 0.3199\n",
      "Epoch 67/400\n",
      "\u001b[1m5/5\u001b[0m \u001b[32m━━━━━━━━━━━━━━━━━━━━\u001b[0m\u001b[37m\u001b[0m \u001b[1m0s\u001b[0m 19ms/step - accuracy: 0.9148 - loss: 0.3112 - val_accuracy: 0.9231 - val_loss: 0.3189\n",
      "Epoch 68/400\n",
      "\u001b[1m5/5\u001b[0m \u001b[32m━━━━━━━━━━━━━━━━━━━━\u001b[0m\u001b[37m\u001b[0m \u001b[1m0s\u001b[0m 14ms/step - accuracy: 0.8992 - loss: 0.3500 - val_accuracy: 0.9231 - val_loss: 0.3184\n",
      "Epoch 69/400\n",
      "\u001b[1m5/5\u001b[0m \u001b[32m━━━━━━━━━━━━━━━━━━━━\u001b[0m\u001b[37m\u001b[0m \u001b[1m0s\u001b[0m 16ms/step - accuracy: 0.8853 - loss: 0.3382 - val_accuracy: 0.9231 - val_loss: 0.3180\n",
      "Epoch 70/400\n",
      "\u001b[1m5/5\u001b[0m \u001b[32m━━━━━━━━━━━━━━━━━━━━\u001b[0m\u001b[37m\u001b[0m \u001b[1m0s\u001b[0m 16ms/step - accuracy: 0.9026 - loss: 0.3414 - val_accuracy: 0.9231 - val_loss: 0.3168\n",
      "Epoch 71/400\n",
      "\u001b[1m5/5\u001b[0m \u001b[32m━━━━━━━━━━━━━━━━━━━━\u001b[0m\u001b[37m\u001b[0m \u001b[1m0s\u001b[0m 15ms/step - accuracy: 0.8861 - loss: 0.3337 - val_accuracy: 0.9231 - val_loss: 0.3154\n",
      "Epoch 72/400\n",
      "\u001b[1m5/5\u001b[0m \u001b[32m━━━━━━━━━━━━━━━━━━━━\u001b[0m\u001b[37m\u001b[0m \u001b[1m0s\u001b[0m 16ms/step - accuracy: 0.8974 - loss: 0.3192 - val_accuracy: 0.9231 - val_loss: 0.3144\n",
      "Epoch 73/400\n",
      "\u001b[1m5/5\u001b[0m \u001b[32m━━━━━━━━━━━━━━━━━━━━\u001b[0m\u001b[37m\u001b[0m \u001b[1m0s\u001b[0m 15ms/step - accuracy: 0.9191 - loss: 0.3332 - val_accuracy: 0.9231 - val_loss: 0.3148\n",
      "Epoch 74/400\n",
      "\u001b[1m5/5\u001b[0m \u001b[32m━━━━━━━━━━━━━━━━━━━━\u001b[0m\u001b[37m\u001b[0m \u001b[1m0s\u001b[0m 16ms/step - accuracy: 0.9178 - loss: 0.3177 - val_accuracy: 0.9231 - val_loss: 0.3146\n",
      "Epoch 75/400\n",
      "\u001b[1m5/5\u001b[0m \u001b[32m━━━━━━━━━━━━━━━━━━━━\u001b[0m\u001b[37m\u001b[0m \u001b[1m0s\u001b[0m 15ms/step - accuracy: 0.9031 - loss: 0.3267 - val_accuracy: 0.9231 - val_loss: 0.3133\n",
      "Epoch 76/400\n",
      "\u001b[1m5/5\u001b[0m \u001b[32m━━━━━━━━━━━━━━━━━━━━\u001b[0m\u001b[37m\u001b[0m \u001b[1m0s\u001b[0m 15ms/step - accuracy: 0.8857 - loss: 0.3397 - val_accuracy: 0.9231 - val_loss: 0.3124\n"
     ]
    },
    {
     "data": {
      "text/plain": [
       "<keras.src.callbacks.history.History at 0x2d273559690>"
      ]
     },
     "execution_count": 232,
     "metadata": {},
     "output_type": "execute_result"
    }
   ],
   "source": [
    "from tensorflow.keras.callbacks import EarlyStopping\n",
    "\n",
    "early_stop = EarlyStopping(\n",
    "    monitor='val_accuracy',   # or use 'accuracy' if you want training accuracy\n",
    "    patience=40,               # number of epochs with no improvement after which training will be stopped\n",
    "    mode='max',\n",
    "    restore_best_weights=True\n",
    ")\n",
    "\n",
    "model.fit(\n",
    "    X_train, y_train,\n",
    "    epochs=400,\n",
    "    batch_size=32,\n",
    "    validation_split=0.2,\n",
    "    callbacks=[early_stop]\n",
    ")\n",
    "\n"
   ]
  },
  {
   "cell_type": "code",
   "execution_count": 234,
   "id": "b12998fe",
   "metadata": {},
   "outputs": [
    {
     "name": "stdout",
     "output_type": "stream",
     "text": [
      "\u001b[1m2/2\u001b[0m \u001b[32m━━━━━━━━━━━━━━━━━━━━\u001b[0m\u001b[37m\u001b[0m \u001b[1m0s\u001b[0m 13ms/step - accuracy: 0.9271 - loss: 0.3330\n",
      "Test Accuracy: 0.9375\n"
     ]
    }
   ],
   "source": [
    "loss, accuracy = model.evaluate(X_test, y_test)\n",
    "print(f\"Test Accuracy: {accuracy:.4f}\")"
   ]
  },
  {
   "cell_type": "code",
   "execution_count": 235,
   "id": "6350f4fe",
   "metadata": {},
   "outputs": [
    {
     "name": "stdout",
     "output_type": "stream",
     "text": [
      "\u001b[1m2/2\u001b[0m \u001b[32m━━━━━━━━━━━━━━━━━━━━\u001b[0m\u001b[37m\u001b[0m \u001b[1m0s\u001b[0m 38ms/step\n",
      "              precision    recall  f1-score   support\n",
      "\n",
      "    clapping       1.00      0.88      0.93        24\n",
      "  fingersnap       0.89      1.00      0.94        24\n",
      "\n",
      "    accuracy                           0.94        48\n",
      "   macro avg       0.94      0.94      0.94        48\n",
      "weighted avg       0.94      0.94      0.94        48\n",
      "\n"
     ]
    }
   ],
   "source": [
    "from sklearn.metrics import classification_report\n",
    "\n",
    "targets = ['clapping', 'fingersnap']\n",
    "\n",
    "# Get predictions\n",
    "y_pred = model.predict(X_test)\n",
    "y_pred_classes = y_pred.argmax(axis=1)  # convert from probabilities to class indices\n",
    "\n",
    "# Print report\n",
    "print(classification_report(y_test, y_pred_classes, target_names=targets))\n"
   ]
  },
  {
   "cell_type": "code",
   "execution_count": 236,
   "id": "58d6b23a",
   "metadata": {},
   "outputs": [
    {
     "data": {
      "image/png": "[encoded data removed]",
      "text/plain": [
       "<Figure size 600x500 with 2 Axes>"
      ]
     },
     "metadata": {},
     "output_type": "display_data"
    }
   ],
   "source": [
    "from sklearn.metrics import confusion_matrix\n",
    "import seaborn as sns\n",
    "import matplotlib.pyplot as plt\n",
    "\n",
    "cm = confusion_matrix(y_test, y_pred_classes)\n",
    "\n",
    "plt.figure(figsize=(6, 5))\n",
    "sns.heatmap(cm, annot=True, fmt=\"d\", cmap=\"Blues\",\n",
    "            xticklabels=targets,\n",
    "            yticklabels=targets)\n",
    "plt.ylabel(\"True Label\")\n",
    "plt.xlabel(\"Predicted Label\")\n",
    "plt.title(\"Confusion Matrix\")\n",
    "plt.show()\n"
   ]
  },
  {
   "cell_type": "code",
   "execution_count": 237,
   "id": "b4552c06",
   "metadata": {},
   "outputs": [],
   "source": [
    "import re\n",
    "import numpy as np\n",
    "\n",
    "def parse_weights(input_str):\n",
    "    # Regex to match variable entries\n",
    "    pattern = r\"<Variable path=(.*?), shape=(.*?), dtype=.*?, value=([\\s\\S]*?)>\"\n",
    "\n",
    "    matches = re.findall(pattern, input_str)\n",
    "    weights_dict = {}\n",
    "    labels = [\"input_hidden_weights\", \"hidden_biases\", \"hidden_output_weights\", \"output_biases\"]\n",
    "    idx = 0\n",
    "    for var_name, var_shape, value_str in matches:\n",
    "        # get the shape\n",
    "        var_shape = tuple(int(dim) for dim in var_shape.strip('()').split(',') if dim)\n",
    "        # Clean up variable name\n",
    "        var_name = var_name.strip()\n",
    "        cleaned_value = re.sub(r'\\s+', ' ', value_str.strip())\n",
    "        cleaned_value = cleaned_value.replace('[', '')\n",
    "        cleaned_value = cleaned_value.replace(']', '')\n",
    "        cleaned_value = cleaned_value.strip().split(' ')\n",
    "        cleaned_value = [float(x) for x in cleaned_value if x]  # Convert to float and remove empty strings\n",
    "        value = np.array(cleaned_value).reshape(var_shape)\n",
    "        weights_dict[labels[idx]] = value\n",
    "        idx += 1\n",
    "\n",
    "    return weights_dict\n"
   ]
  },
  {
   "cell_type": "code",
   "execution_count": 238,
   "id": "de7baec2",
   "metadata": {},
   "outputs": [],
   "source": [
    "import numpy as np\n",
    "from tensorflow.keras.models import Sequential\n",
    "from tensorflow.keras.layers import Dense\n",
    "from sklearn.metrics import accuracy_score\n",
    "from tensorflow.keras.utils import to_categorical\n",
    "\n",
    "def evaluate_custom_mlp(X, y, weights_dict, is_categorical=False, shape=(5, 8, 2)):\n",
    "    \"\"\"\n",
    "    Evaluate accuracy of a manually-weighted MLP model.\n",
    "\n",
    "    Parameters:\n",
    "        X (np.ndarray): Input data, shape (num_samples, 4)\n",
    "        y (np.ndarray): Labels, shape (num_samples,) or one-hot (num_samples, 3)\n",
    "        weights_dict (dict): Dictionary with keys:\n",
    "            'input_hidden_weights', 'hidden_biases',\n",
    "            'hidden_output_weights', 'output_biases'\n",
    "        is_categorical (bool): Set True if y is one-hot encoded\n",
    "\n",
    "    Returns:\n",
    "        float: Accuracy score\n",
    "    \"\"\"\n",
    "\n",
    "    # 1. Build model with matching architecture\n",
    "    model = Sequential([\n",
    "        Dense(shape[1], input_shape=(shape[0],), activation='relu', name='hidden'),\n",
    "        Dense(shape[2], activation='softmax', name='output')\n",
    "    ])\n",
    "\n",
    "    # 2. Set custom weights\n",
    "    model.get_layer('hidden').set_weights([\n",
    "        np.array(weights_dict['input_hidden_weights']),\n",
    "        np.array(weights_dict['hidden_biases'])\n",
    "    ])\n",
    "\n",
    "    model.get_layer('output').set_weights([\n",
    "        np.array(weights_dict['hidden_output_weights']),\n",
    "        np.array(weights_dict['output_biases'])\n",
    "    ])\n",
    "\n",
    "    # 3. Get predictions\n",
    "    predictions = model.predict(X)\n",
    "    predicted_classes = np.argmax(predictions, axis=1)\n",
    "\n",
    "    # 4. Process ground truth\n",
    "    if is_categorical:\n",
    "        true_classes = np.argmax(y, axis=1)\n",
    "    else:\n",
    "        true_classes = y\n",
    "\n",
    "    # 5. Compute accuracy\n",
    "    accuracy = accuracy_score(true_classes, predicted_classes)\n",
    "    return accuracy\n"
   ]
  },
  {
   "cell_type": "code",
   "execution_count": 239,
   "id": "6af63427",
   "metadata": {},
   "outputs": [],
   "source": [
    "import numpy as np\n",
    "\n",
    "def round_weights(weights_dict, decimals=2, scale=0):\n",
    "    \"\"\"\n",
    "    Rounds all numpy array values in the input dictionary to the given number of decimals,\n",
    "    with an optional scaling factor applied before rounding.\n",
    "\n",
    "    Parameters:\n",
    "        weights_dict (dict): Dictionary with keys mapping to numpy arrays.\n",
    "        decimals (int): Number of decimal places to round to.\n",
    "        scale (int): Power of 10 to scale the values before rounding. For example,\n",
    "                     scale=2 multiplies values by 100 before rounding.\n",
    "\n",
    "    Returns:\n",
    "        dict: New dictionary with rounded values.\n",
    "    \"\"\"\n",
    "    rounded_dict = {}\n",
    "    factor = 10 ** scale\n",
    "\n",
    "    for key, value in weights_dict.items():\n",
    "        if isinstance(value, np.ndarray):\n",
    "            scaled = value * factor\n",
    "            rounded = np.round(scaled, decimals)\n",
    "            rounded_dict[key] = rounded\n",
    "        else:\n",
    "            rounded_dict[key] = value  # Leave untouched if not an ndarray\n",
    "\n",
    "    return rounded_dict\n"
   ]
  },
  {
   "cell_type": "code",
   "execution_count": 240,
   "id": "a6dc6889",
   "metadata": {},
   "outputs": [
    {
     "data": {
      "text/plain": [
       "{'input_hidden_weights': array([[ 0.2594299 , -0.3768168 ,  0.8956291 ],\n",
       "        [-0.0190575 , -0.21202719, -0.18962584]]),\n",
       " 'hidden_biases': array([-0.06014738,  0.        ,  0.09794158]),\n",
       " 'hidden_output_weights': array([[ 0.6538672 , -0.07457413],\n",
       "        [ 0.07928085,  0.85269606],\n",
       "        [-0.46889642, -0.01549624]]),\n",
       " 'output_biases': array([-0.06184732,  0.06184732])}"
      ]
     },
     "execution_count": 240,
     "metadata": {},
     "output_type": "execute_result"
    }
   ],
   "source": [
    "parse_weights(str(model.weights))"
   ]
  },
  {
   "cell_type": "code",
   "execution_count": 241,
   "id": "7ab02a7d",
   "metadata": {},
   "outputs": [
    {
     "data": {
      "text/plain": [
       "{'input_hidden_weights': array([[ 26., -38.,  90.],\n",
       "        [ -2., -21., -19.]]),\n",
       " 'hidden_biases': array([-6.,  0., 10.]),\n",
       " 'hidden_output_weights': array([[ 65.,  -7.],\n",
       "        [  8.,  85.],\n",
       "        [-47.,  -2.]]),\n",
       " 'output_biases': array([-6.,  6.])}"
      ]
     },
     "execution_count": 241,
     "metadata": {},
     "output_type": "execute_result"
    }
   ],
   "source": [
    "new_weights = round_weights(parse_weights(str(model.weights)), decimals=0 , scale=2)\n",
    "new_weights"
   ]
  },
  {
   "cell_type": "code",
   "execution_count": 242,
   "id": "99c71b79",
   "metadata": {},
   "outputs": [
    {
     "name": "stdout",
     "output_type": "stream",
     "text": [
      "\u001b[1m8/8\u001b[0m \u001b[32m━━━━━━━━━━━━━━━━━━━━\u001b[0m\u001b[37m\u001b[0m \u001b[1m0s\u001b[0m 5ms/step \n",
      "Accuracy: 0.9083333333333333\n"
     ]
    },
    {
     "name": "stderr",
     "output_type": "stream",
     "text": [
      "c:\\Pyth\\radarobj_detection\\radarml\\Lib\\site-packages\\keras\\src\\layers\\core\\dense.py:93: UserWarning: Do not pass an `input_shape`/`input_dim` argument to a layer. When using Sequential models, prefer using an `Input(shape)` object as the first layer in the model instead.\n",
      "  super().__init__(activity_regularizer=activity_regularizer, **kwargs)\n"
     ]
    }
   ],
   "source": [
    "accuracy = evaluate_custom_mlp(X, y, new_weights, is_categorical=False, shape=shape)\n",
    "print(\"Accuracy:\", accuracy)"
   ]
  }
 ],
 "metadata": {
  "kernelspec": {
   "display_name": "radarml",
   "language": "python",
   "name": "python3"
  },
  "language_info": {
   "codemirror_mode": {
    "name": "ipython",
    "version": 3
   },
   "file_extension": ".py",
   "mimetype": "text/x-python",
   "name": "python",
   "nbconvert_exporter": "python",
   "pygments_lexer": "ipython3",
   "version": "3.11.9"
  }
 },
 "nbformat": 4,
 "nbformat_minor": 5
}

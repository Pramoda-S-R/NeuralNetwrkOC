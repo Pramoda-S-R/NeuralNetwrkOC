{
 "cells": [
  {
   "cell_type": "code",
   "execution_count": 1,
   "id": "e8cf30b5",
   "metadata": {},
   "outputs": [],
   "source": [
    "import pandas as pd\n",
    "import numpy as np"
   ]
  },
  {
   "cell_type": "code",
   "execution_count": 50,
   "id": "f3c141d3",
   "metadata": {},
   "outputs": [
    {
     "name": "stdout",
     "output_type": "stream",
     "text": [
      "<class 'pandas.core.frame.DataFrame'>\n",
      "RangeIndex: 3000 entries, 0 to 2999\n",
      "Data columns (total 5 columns):\n",
      " #   Column       Non-Null Count  Dtype  \n",
      "---  ------       --------------  -----  \n",
      " 0   object_type  3000 non-null   object \n",
      " 1   range        3000 non-null   float64\n",
      " 2   velocity     3000 non-null   float64\n",
      " 3   angle        3000 non-null   float64\n",
      " 4   amplitude    3000 non-null   float64\n",
      "dtypes: float64(4), object(1)\n",
      "memory usage: 117.3+ KB\n"
     ]
    },
    {
     "data": {
      "text/html": [
       "<div>\n",
       "<style scoped>\n",
       "    .dataframe tbody tr th:only-of-type {\n",
       "        vertical-align: middle;\n",
       "    }\n",
       "\n",
       "    .dataframe tbody tr th {\n",
       "        vertical-align: top;\n",
       "    }\n",
       "\n",
       "    .dataframe thead th {\n",
       "        text-align: right;\n",
       "    }\n",
       "</style>\n",
       "<table border=\"1\" class=\"dataframe\">\n",
       "  <thead>\n",
       "    <tr style=\"text-align: right;\">\n",
       "      <th></th>\n",
       "      <th>range</th>\n",
       "      <th>velocity</th>\n",
       "      <th>angle</th>\n",
       "      <th>amplitude</th>\n",
       "    </tr>\n",
       "  </thead>\n",
       "  <tbody>\n",
       "    <tr>\n",
       "      <th>count</th>\n",
       "      <td>3000.000000</td>\n",
       "      <td>3000.000000</td>\n",
       "      <td>3000.000000</td>\n",
       "      <td>3000.000000</td>\n",
       "    </tr>\n",
       "    <tr>\n",
       "      <th>mean</th>\n",
       "      <td>25.013717</td>\n",
       "      <td>8.080323</td>\n",
       "      <td>11.819160</td>\n",
       "      <td>0.113737</td>\n",
       "    </tr>\n",
       "    <tr>\n",
       "      <th>std</th>\n",
       "      <td>4.087003</td>\n",
       "      <td>5.619280</td>\n",
       "      <td>14.426883</td>\n",
       "      <td>0.118753</td>\n",
       "    </tr>\n",
       "    <tr>\n",
       "      <th>min</th>\n",
       "      <td>18.990000</td>\n",
       "      <td>0.660000</td>\n",
       "      <td>-8.310000</td>\n",
       "      <td>-0.310000</td>\n",
       "    </tr>\n",
       "    <tr>\n",
       "      <th>25%</th>\n",
       "      <td>20.207500</td>\n",
       "      <td>1.330000</td>\n",
       "      <td>-4.352500</td>\n",
       "      <td>0.030000</td>\n",
       "    </tr>\n",
       "    <tr>\n",
       "      <th>50%</th>\n",
       "      <td>25.010000</td>\n",
       "      <td>8.000000</td>\n",
       "      <td>10.040000</td>\n",
       "      <td>0.110000</td>\n",
       "    </tr>\n",
       "    <tr>\n",
       "      <th>75%</th>\n",
       "      <td>29.812500</td>\n",
       "      <td>14.860000</td>\n",
       "      <td>29.402500</td>\n",
       "      <td>0.190000</td>\n",
       "    </tr>\n",
       "    <tr>\n",
       "      <th>max</th>\n",
       "      <td>30.940000</td>\n",
       "      <td>15.630000</td>\n",
       "      <td>33.280000</td>\n",
       "      <td>0.490000</td>\n",
       "    </tr>\n",
       "  </tbody>\n",
       "</table>\n",
       "</div>"
      ],
      "text/plain": [
       "             range     velocity        angle    amplitude\n",
       "count  3000.000000  3000.000000  3000.000000  3000.000000\n",
       "mean     25.013717     8.080323    11.819160     0.113737\n",
       "std       4.087003     5.619280    14.426883     0.118753\n",
       "min      18.990000     0.660000    -8.310000    -0.310000\n",
       "25%      20.207500     1.330000    -4.352500     0.030000\n",
       "50%      25.010000     8.000000    10.040000     0.110000\n",
       "75%      29.812500    14.860000    29.402500     0.190000\n",
       "max      30.940000    15.630000    33.280000     0.490000"
      ]
     },
     "execution_count": 50,
     "metadata": {},
     "output_type": "execute_result"
    }
   ],
   "source": [
    "df = pd.read_csv('simulated_radar_data.csv')\n",
    "df.info()\n",
    "df.describe()"
   ]
  },
  {
   "cell_type": "code",
   "execution_count": null,
   "id": "62b31a75",
   "metadata": {},
   "outputs": [
    {
     "name": "stdout",
     "output_type": "stream",
     "text": [
      "              precision    recall  f1-score   support\n",
      "\n",
      "        bird       1.00      1.00      1.00       201\n",
      "         car       1.00      1.00      1.00       201\n",
      "       human       1.00      1.00      1.00       198\n",
      "\n",
      "    accuracy                           1.00       600\n",
      "   macro avg       1.00      1.00      1.00       600\n",
      "weighted avg       1.00      1.00      1.00       600\n",
      "\n"
     ]
    },
    {
     "name": "stderr",
     "output_type": "stream",
     "text": [
      "c:\\Pyth\\radarobj_detection\\radarml\\Lib\\site-packages\\sklearn\\neural_network\\_multilayer_perceptron.py:780: ConvergenceWarning: Stochastic Optimizer: Maximum iterations (54) reached and the optimization hasn't converged yet.\n",
      "  warnings.warn(\n"
     ]
    }
   ],
   "source": [
    "import pandas as pd\n",
    "from sklearn.model_selection import train_test_split\n",
    "from sklearn.preprocessing import LabelEncoder, StandardScaler\n",
    "from sklearn.neural_network import MLPClassifier\n",
    "from sklearn.metrics import classification_report\n",
    "\n",
    "# Features and target\n",
    "X = df[['range', 'velocity', 'angle', 'amplitude']]\n",
    "y = df['object_type']\n",
    "\n",
    "# Encode target labels\n",
    "le = LabelEncoder()\n",
    "y_encoded = le.fit_transform(y)\n",
    "\n",
    "# Scale features\n",
    "scaler = StandardScaler()\n",
    "X_scaled = scaler.fit_transform(X)\n",
    "\n",
    "# Split data\n",
    "X_train, X_test, y_train, y_test = train_test_split(\n",
    "    X_scaled, y_encoded, test_size=0.2, random_state=42\n",
    ")\n",
    "\n",
    "# Train MLP model\n",
    "mlp = MLPClassifier(hidden_layer_sizes=(2,), activation=\"relu\", solver=\"adam\", max_iter=54, random_state=42)\n",
    "mlp.fit(X_train, y_train)\n",
    "\n",
    "# Predict and evaluate\n",
    "y_pred = mlp.predict(X_test)\n",
    "print(classification_report(y_test, y_pred, target_names=le.classes_))\n"
   ]
  },
  {
   "cell_type": "code",
   "execution_count": 76,
   "id": "ca841592",
   "metadata": {},
   "outputs": [
    {
     "name": "stdout",
     "output_type": "stream",
     "text": [
      "Input to Hidden Weights:\n",
      " [[-0.66445356  1.59567296]\n",
      " [ 0.0582999   0.89286338]\n",
      " [-1.15400322 -1.0625286 ]\n",
      " [-0.50646296  0.72970407]]\n",
      "Hidden Biases:\n",
      " [0.32990558 0.93513002]\n",
      "Hidden to Output Weights:\n",
      " [[-1.18314046  0.44529352  1.36522833]\n",
      " [-1.1067273  -0.2497119  -1.11587357]]\n",
      "Output Biases:\n",
      " [ 0.21743981 -0.54201412 -0.5477511 ]\n"
     ]
    }
   ],
   "source": [
    "# Weights from input to hidden layer\n",
    "input_to_hidden_weights = mlp.coefs_[0]      # shape: (4 features, 2 hidden neurons)\n",
    "hidden_biases = mlp.intercepts_[0]           # shape: (2,)\n",
    "\n",
    "# Weights from hidden to output layer\n",
    "hidden_to_output_weights = mlp.coefs_[1]     # shape: (2 hidden neurons, 3 classes)\n",
    "output_biases = mlp.intercepts_[1]           # shape: (3,)\n",
    "\n",
    "print(\"Input to Hidden Weights:\\n\", input_to_hidden_weights)\n",
    "print(\"Hidden Biases:\\n\", hidden_biases)\n",
    "\n",
    "print(\"Hidden to Output Weights:\\n\", hidden_to_output_weights)\n",
    "print(\"Output Biases:\\n\", output_biases)"
   ]
  }
 ],
 "metadata": {
  "kernelspec": {
   "display_name": "radarml",
   "language": "python",
   "name": "python3"
  },
  "language_info": {
   "codemirror_mode": {
    "name": "ipython",
    "version": 3
   },
   "file_extension": ".py",
   "mimetype": "text/x-python",
   "name": "python",
   "nbconvert_exporter": "python",
   "pygments_lexer": "ipython3",
   "version": "3.11.9"
  }
 },
 "nbformat": 4,
 "nbformat_minor": 5
}

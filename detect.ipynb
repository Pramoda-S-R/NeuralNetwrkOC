{
 "cells": [
  {
   "cell_type": "code",
   "execution_count": 5,
   "id": "e8cf30b5",
   "metadata": {},
   "outputs": [],
   "source": [
    "import pandas as pd\n",
    "import numpy as np"
   ]
  },
  {
   "cell_type": "code",
   "execution_count": 6,
   "id": "f3c141d3",
   "metadata": {},
   "outputs": [
    {
     "name": "stdout",
     "output_type": "stream",
     "text": [
      "<class 'pandas.core.frame.DataFrame'>\n",
      "RangeIndex: 3000 entries, 0 to 2999\n",
      "Data columns (total 5 columns):\n",
      " #   Column       Non-Null Count  Dtype  \n",
      "---  ------       --------------  -----  \n",
      " 0   object_type  3000 non-null   object \n",
      " 1   range        3000 non-null   float64\n",
      " 2   velocity     3000 non-null   float64\n",
      " 3   angle        3000 non-null   float64\n",
      " 4   amplitude    3000 non-null   float64\n",
      "dtypes: float64(4), object(1)\n",
      "memory usage: 117.3+ KB\n"
     ]
    },
    {
     "data": {
      "text/html": [
       "<div>\n",
       "<style scoped>\n",
       "    .dataframe tbody tr th:only-of-type {\n",
       "        vertical-align: middle;\n",
       "    }\n",
       "\n",
       "    .dataframe tbody tr th {\n",
       "        vertical-align: top;\n",
       "    }\n",
       "\n",
       "    .dataframe thead th {\n",
       "        text-align: right;\n",
       "    }\n",
       "</style>\n",
       "<table border=\"1\" class=\"dataframe\">\n",
       "  <thead>\n",
       "    <tr style=\"text-align: right;\">\n",
       "      <th></th>\n",
       "      <th>range</th>\n",
       "      <th>velocity</th>\n",
       "      <th>angle</th>\n",
       "      <th>amplitude</th>\n",
       "    </tr>\n",
       "  </thead>\n",
       "  <tbody>\n",
       "    <tr>\n",
       "      <th>count</th>\n",
       "      <td>3000.000000</td>\n",
       "      <td>3000.000000</td>\n",
       "      <td>3000.000000</td>\n",
       "      <td>3000.00000</td>\n",
       "    </tr>\n",
       "    <tr>\n",
       "      <th>mean</th>\n",
       "      <td>25.012483</td>\n",
       "      <td>8.087037</td>\n",
       "      <td>11.519387</td>\n",
       "      <td>0.11661</td>\n",
       "    </tr>\n",
       "    <tr>\n",
       "      <th>std</th>\n",
       "      <td>4.115688</td>\n",
       "      <td>5.667409</td>\n",
       "      <td>14.318247</td>\n",
       "      <td>0.11907</td>\n",
       "    </tr>\n",
       "    <tr>\n",
       "      <th>min</th>\n",
       "      <td>19.110000</td>\n",
       "      <td>0.550000</td>\n",
       "      <td>-8.310000</td>\n",
       "      <td>-0.30000</td>\n",
       "    </tr>\n",
       "    <tr>\n",
       "      <th>25%</th>\n",
       "      <td>20.200000</td>\n",
       "      <td>1.330000</td>\n",
       "      <td>-4.360000</td>\n",
       "      <td>0.04000</td>\n",
       "    </tr>\n",
       "    <tr>\n",
       "      <th>50%</th>\n",
       "      <td>25.000000</td>\n",
       "      <td>8.020000</td>\n",
       "      <td>10.010000</td>\n",
       "      <td>0.12000</td>\n",
       "    </tr>\n",
       "    <tr>\n",
       "      <th>75%</th>\n",
       "      <td>29.812500</td>\n",
       "      <td>14.880000</td>\n",
       "      <td>29.290000</td>\n",
       "      <td>0.20000</td>\n",
       "    </tr>\n",
       "    <tr>\n",
       "      <th>max</th>\n",
       "      <td>30.970000</td>\n",
       "      <td>15.580000</td>\n",
       "      <td>32.930000</td>\n",
       "      <td>0.54000</td>\n",
       "    </tr>\n",
       "  </tbody>\n",
       "</table>\n",
       "</div>"
      ],
      "text/plain": [
       "             range     velocity        angle   amplitude\n",
       "count  3000.000000  3000.000000  3000.000000  3000.00000\n",
       "mean     25.012483     8.087037    11.519387     0.11661\n",
       "std       4.115688     5.667409    14.318247     0.11907\n",
       "min      19.110000     0.550000    -8.310000    -0.30000\n",
       "25%      20.200000     1.330000    -4.360000     0.04000\n",
       "50%      25.000000     8.020000    10.010000     0.12000\n",
       "75%      29.812500    14.880000    29.290000     0.20000\n",
       "max      30.970000    15.580000    32.930000     0.54000"
      ]
     },
     "execution_count": 6,
     "metadata": {},
     "output_type": "execute_result"
    }
   ],
   "source": [
    "df = pd.read_csv('simulated_radar_data.csv')\n",
    "df.info()\n",
    "df.describe()"
   ]
  },
  {
   "cell_type": "code",
   "execution_count": 7,
   "id": "62b31a75",
   "metadata": {},
   "outputs": [
    {
     "name": "stdout",
     "output_type": "stream",
     "text": [
      "              precision    recall  f1-score   support\n",
      "\n",
      "        bird       1.00      0.99      1.00       207\n",
      "         car       0.99      1.00      0.99       189\n",
      "       human       1.00      1.00      1.00       204\n",
      "\n",
      "    accuracy                           1.00       600\n",
      "   macro avg       1.00      1.00      1.00       600\n",
      "weighted avg       1.00      1.00      1.00       600\n",
      "\n"
     ]
    },
    {
     "name": "stderr",
     "output_type": "stream",
     "text": [
      "c:\\Work\\Python\\NeuralNetwrkOC\\radarml\\Lib\\site-packages\\sklearn\\neural_network\\_multilayer_perceptron.py:780: ConvergenceWarning: Stochastic Optimizer: Maximum iterations (54) reached and the optimization hasn't converged yet.\n",
      "  warnings.warn(\n"
     ]
    }
   ],
   "source": [
    "import pandas as pd\n",
    "from sklearn.model_selection import train_test_split\n",
    "from sklearn.preprocessing import LabelEncoder, StandardScaler\n",
    "from sklearn.neural_network import MLPClassifier\n",
    "from sklearn.metrics import classification_report\n",
    "\n",
    "# Features and target\n",
    "X = df[['range', 'velocity', 'angle', 'amplitude']]\n",
    "y = df['object_type']\n",
    "\n",
    "# Encode target labels\n",
    "le = LabelEncoder()\n",
    "y_encoded = le.fit_transform(y)\n",
    "\n",
    "# Scale features\n",
    "scaler = StandardScaler()\n",
    "X_scaled = scaler.fit_transform(X)\n",
    "\n",
    "# Split data\n",
    "X_train, X_test, y_train, y_test = train_test_split(\n",
    "    X_scaled, y_encoded, test_size=0.2, random_state=42\n",
    ")\n",
    "\n",
    "# Train MLP model\n",
    "mlp = MLPClassifier(hidden_layer_sizes=(2,), activation=\"relu\", solver=\"adam\", max_iter=54, random_state=42)\n",
    "mlp.fit(X_train, y_train)\n",
    "\n",
    "# Predict and evaluate\n",
    "y_pred = mlp.predict(X_test)\n",
    "print(classification_report(y_test, y_pred, target_names=le.classes_))\n"
   ]
  },
  {
   "cell_type": "code",
   "execution_count": 8,
   "id": "ca841592",
   "metadata": {},
   "outputs": [
    {
     "name": "stdout",
     "output_type": "stream",
     "text": [
      "Input to Hidden Weights:\n",
      " [[-0.65015046  1.59786261]\n",
      " [ 0.0704379   0.89574153]\n",
      " [-1.15100561 -1.03905404]\n",
      " [-0.50363138  0.71642018]]\n",
      "Hidden Biases:\n",
      " [0.36736791 0.95864263]\n",
      "Hidden to Output Weights:\n",
      " [[-1.20218887  0.44200463  1.36797478]\n",
      " [-1.1090307  -0.24417826 -1.12439868]]\n",
      "Output Biases:\n",
      " [ 0.22493537 -0.54368607 -0.50191126]\n"
     ]
    }
   ],
   "source": [
    "# Weights from input to hidden layer\n",
    "input_to_hidden_weights = mlp.coefs_[0]      # shape: (4 features, 2 hidden neurons)\n",
    "hidden_biases = mlp.intercepts_[0]           # shape: (2,)\n",
    "\n",
    "# Weights from hidden to output layer\n",
    "hidden_to_output_weights = mlp.coefs_[1]     # shape: (2 hidden neurons, 3 classes)\n",
    "output_biases = mlp.intercepts_[1]           # shape: (3,)\n",
    "\n",
    "print(\"Input to Hidden Weights:\\n\", input_to_hidden_weights)\n",
    "print(\"Hidden Biases:\\n\", hidden_biases)\n",
    "\n",
    "print(\"Hidden to Output Weights:\\n\", hidden_to_output_weights)\n",
    "print(\"Output Biases:\\n\", output_biases)"
   ]
  },
  {
   "cell_type": "code",
   "execution_count": 10,
   "id": "ad506300",
   "metadata": {},
   "outputs": [
    {
     "name": "stdout",
     "output_type": "stream",
     "text": [
      "\u001b[1m1/1\u001b[0m \u001b[32m━━━━━━━━━━━━━━━━━━━━\u001b[0m\u001b[37m\u001b[0m \u001b[1m0s\u001b[0m 51ms/step\n",
      "[[8.0888030e-15 1.0000000e+00 1.8188313e-15]]\n"
     ]
    }
   ],
   "source": [
    "import numpy as np\n",
    "from tensorflow.keras.models import Sequential\n",
    "from tensorflow.keras.layers import Dense\n",
    "\n",
    "# 1. Define the same model architecture\n",
    "model = Sequential([\n",
    "    Dense(2, input_shape=(4,), activation='relu', name='hidden'),\n",
    "    Dense(3, activation='softmax', name='output')  # or another activation if originally different\n",
    "])\n",
    "\n",
    "# 2. Manually set weights\n",
    "input_to_hidden_weights = np.array([[-0.65, 1.59],\n",
    "                                    [ 0.07 , 0.89],\n",
    "                                    [-1.15, -1.03],\n",
    "                                    [-0.50, 0.71]])\n",
    "\n",
    "hidden_biases = np.array([0.36, 0.95])\n",
    "\n",
    "hidden_to_output_weights = np.array([[-1.20,  0.44,  1.36],\n",
    "                                     [-1.10 , -0.24, -1.12]])\n",
    "\n",
    "output_biases = np.array([ 0.22, -0.54, -0.50])\n",
    "\n",
    "# Assign weights to layers\n",
    "model.get_layer('hidden').set_weights([input_to_hidden_weights, hidden_biases])\n",
    "model.get_layer('output').set_weights([hidden_to_output_weights, output_biases])\n",
    "\n",
    "# 3. Inference\n",
    "sample_input = np.array([[20.38,1.21,-4.02,0.06]])  # replace with your input\n",
    "output = model.predict(sample_input)\n",
    "print(output)\n"
   ]
  },
  {
   "cell_type": "code",
   "execution_count": 12,
   "id": "5d63eecd",
   "metadata": {},
   "outputs": [],
   "source": [
    "import numpy as np\n",
    "from tensorflow.keras.models import Sequential\n",
    "from tensorflow.keras.layers import Dense\n",
    "from sklearn.metrics import accuracy_score\n",
    "from tensorflow.keras.utils import to_categorical\n",
    "\n",
    "def evaluate_custom_mlp(X, y, weights_dict, is_categorical=False):\n",
    "    \"\"\"\n",
    "    Evaluate accuracy of a manually-weighted MLP model.\n",
    "\n",
    "    Parameters:\n",
    "        X (np.ndarray): Input data, shape (num_samples, 4)\n",
    "        y (np.ndarray): Labels, shape (num_samples,) or one-hot (num_samples, 3)\n",
    "        weights_dict (dict): Dictionary with keys:\n",
    "            'input_hidden_weights', 'hidden_biases',\n",
    "            'hidden_output_weights', 'output_biases'\n",
    "        is_categorical (bool): Set True if y is one-hot encoded\n",
    "\n",
    "    Returns:\n",
    "        float: Accuracy score\n",
    "    \"\"\"\n",
    "\n",
    "    # 1. Build model with matching architecture\n",
    "    model = Sequential([\n",
    "        Dense(2, input_shape=(4,), activation='relu', name='hidden'),\n",
    "        Dense(3, activation='softmax', name='output')\n",
    "    ])\n",
    "\n",
    "    # 2. Set custom weights\n",
    "    model.get_layer('hidden').set_weights([\n",
    "        np.array(weights_dict['input_hidden_weights']),\n",
    "        np.array(weights_dict['hidden_biases'])\n",
    "    ])\n",
    "\n",
    "    model.get_layer('output').set_weights([\n",
    "        np.array(weights_dict['hidden_output_weights']),\n",
    "        np.array(weights_dict['output_biases'])\n",
    "    ])\n",
    "\n",
    "    # 3. Get predictions\n",
    "    predictions = model.predict(X)\n",
    "    predicted_classes = np.argmax(predictions, axis=1)\n",
    "\n",
    "    # 4. Process ground truth\n",
    "    if is_categorical:\n",
    "        true_classes = np.argmax(y, axis=1)\n",
    "    else:\n",
    "        true_classes = y\n",
    "\n",
    "    # 5. Compute accuracy\n",
    "    accuracy = accuracy_score(true_classes, predicted_classes)\n",
    "    return accuracy\n"
   ]
  },
  {
   "cell_type": "code",
   "execution_count": 21,
   "id": "b96834ea",
   "metadata": {},
   "outputs": [
    {
     "name": "stdout",
     "output_type": "stream",
     "text": [
      "\u001b[1m24/94\u001b[0m \u001b[32m━━━━━\u001b[0m\u001b[37m━━━━━━━━━━━━━━━\u001b[0m \u001b[1m0s\u001b[0m 2ms/step "
     ]
    },
    {
     "name": "stderr",
     "output_type": "stream",
     "text": [
      "c:\\Work\\Python\\NeuralNetwrkOC\\radarml\\Lib\\site-packages\\keras\\src\\layers\\core\\dense.py:93: UserWarning: Do not pass an `input_shape`/`input_dim` argument to a layer. When using Sequential models, prefer using an `Input(shape)` object as the first layer in the model instead.\n",
      "  super().__init__(activity_regularizer=activity_regularizer, **kwargs)\n"
     ]
    },
    {
     "name": "stdout",
     "output_type": "stream",
     "text": [
      "\u001b[1m94/94\u001b[0m \u001b[32m━━━━━━━━━━━━━━━━━━━━\u001b[0m\u001b[37m\u001b[0m \u001b[1m0s\u001b[0m 4ms/step\n",
      "Accuracy: 0.9963333333333333\n"
     ]
    }
   ],
   "source": [
    "weights = {\n",
    "    \"input_hidden_weights\" : [[-0.65,  1.59],\n",
    " [ 0.07,   0.89],\n",
    " [-1.15, -1.03],\n",
    " [-0.50,  0.71],],\n",
    "    \"hidden_biases\" : [0.36, 0.95],\n",
    "    \"hidden_output_weights\" : [[-1.20,  0.44,  1.36],\n",
    " [-1.10,  -0.24, -1.12]],\n",
    "    \"output_biases\" : [ 0.22, -0.54, -0.50]\n",
    "}\n",
    "\n",
    "accuracy = evaluate_custom_mlp(X_scaled, y_encoded, weights, is_categorical=False)\n",
    "print(\"Accuracy:\", accuracy)"
   ]
  }
 ],
 "metadata": {
  "kernelspec": {
   "display_name": "radarml",
   "language": "python",
   "name": "python3"
  },
  "language_info": {
   "codemirror_mode": {
    "name": "ipython",
    "version": 3
   },
   "file_extension": ".py",
   "mimetype": "text/x-python",
   "name": "python",
   "nbconvert_exporter": "python",
   "pygments_lexer": "ipython3",
   "version": "3.11.9"
  }
 },
 "nbformat": 4,
 "nbformat_minor": 5
}

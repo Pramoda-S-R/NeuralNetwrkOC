{
 "cells": [
  {
   "cell_type": "code",
   "execution_count": 5,
   "id": "a4ccfe98",
   "metadata": {},
   "outputs": [],
   "source": [
    "import pandas as pd"
   ]
  },
  {
   "cell_type": "code",
   "execution_count": 43,
   "id": "36278ca5",
   "metadata": {},
   "outputs": [],
   "source": [
    "files = [\"./data/orochi_data/clapping.txt\",\n",
    "         \"./data/orochi_data/fingersnap.txt\",]\n",
    "\n",
    "dfs = []\n",
    "\n",
    "for idx, file in enumerate(files):\n",
    "    with open(file, \"r\") as f:\n",
    "        lines = f.readlines()\n",
    "        df = pd.DataFrame([x.split() for x in lines[0:120]])\n",
    "        df.drop(columns=[0, 1, 2, 8, 9], inplace=True)\n",
    "        # add another column with the file name\n",
    "        df[\"gesture\"] = idx\n",
    "        df.columns = [\"f1\", \"f2\", \"f3\", \"f4\", \"f5\", \"gesture\"]\n",
    "        dfs.append(df)"
   ]
  },
  {
   "cell_type": "code",
   "execution_count": 44,
   "id": "731d9e65",
   "metadata": {},
   "outputs": [],
   "source": [
    "df = pd.DataFrame()\n",
    "for d in dfs:\n",
    "    df = pd.concat([df, d], ignore_index=True)\n",
    "    \n",
    "X = df[[\"f1\", \"f2\", \"f3\", \"f4\", \"f5\"]]\n",
    "y = df[\"gesture\"]"
   ]
  },
  {
   "cell_type": "code",
   "execution_count": 45,
   "id": "30dfe311",
   "metadata": {},
   "outputs": [],
   "source": [
    "# convert X from hex string to int\n",
    "X = X.map(lambda x: int(x, 16))"
   ]
  },
  {
   "cell_type": "code",
   "execution_count": 46,
   "id": "4c1dccc7",
   "metadata": {},
   "outputs": [],
   "source": [
    "from sklearn.model_selection import train_test_split\n",
    "\n",
    "X_train, X_test, y_train, y_test = train_test_split(\n",
    "    X, y, test_size=0.2, stratify=y, random_state=42)\n"
   ]
  },
  {
   "cell_type": "code",
   "execution_count": 109,
   "id": "87389083",
   "metadata": {},
   "outputs": [
    {
     "name": "stdout",
     "output_type": "stream",
     "text": [
      "Epoch 1/40\n"
     ]
    },
    {
     "name": "stderr",
     "output_type": "stream",
     "text": [
      "c:\\Pyth\\radarobj_detection\\radarml\\Lib\\site-packages\\keras\\src\\layers\\core\\dense.py:93: UserWarning: Do not pass an `input_shape`/`input_dim` argument to a layer. When using Sequential models, prefer using an `Input(shape)` object as the first layer in the model instead.\n",
      "  super().__init__(activity_regularizer=activity_regularizer, **kwargs)\n"
     ]
    },
    {
     "name": "stdout",
     "output_type": "stream",
     "text": [
      "\u001b[1m5/5\u001b[0m \u001b[32m━━━━━━━━━━━━━━━━━━━━\u001b[0m\u001b[37m\u001b[0m \u001b[1m1s\u001b[0m 43ms/step - accuracy: 0.4511 - loss: 27.4237 - val_accuracy: 0.6154 - val_loss: 23.1960\n",
      "Epoch 2/40\n",
      "\u001b[1m5/5\u001b[0m \u001b[32m━━━━━━━━━━━━━━━━━━━━\u001b[0m\u001b[37m\u001b[0m \u001b[1m0s\u001b[0m 16ms/step - accuracy: 0.4333 - loss: 27.8237 - val_accuracy: 0.6154 - val_loss: 22.5075\n",
      "Epoch 3/40\n",
      "\u001b[1m5/5\u001b[0m \u001b[32m━━━━━━━━━━━━━━━━━━━━\u001b[0m\u001b[37m\u001b[0m \u001b[1m0s\u001b[0m 17ms/step - accuracy: 0.4229 - loss: 26.9527 - val_accuracy: 0.6154 - val_loss: 21.8247\n",
      "Epoch 4/40\n",
      "\u001b[1m5/5\u001b[0m \u001b[32m━━━━━━━━━━━━━━━━━━━━\u001b[0m\u001b[37m\u001b[0m \u001b[1m0s\u001b[0m 17ms/step - accuracy: 0.4637 - loss: 24.0787 - val_accuracy: 0.6154 - val_loss: 21.1439\n",
      "Epoch 5/40\n",
      "\u001b[1m5/5\u001b[0m \u001b[32m━━━━━━━━━━━━━━━━━━━━\u001b[0m\u001b[37m\u001b[0m \u001b[1m0s\u001b[0m 17ms/step - accuracy: 0.4989 - loss: 21.9608 - val_accuracy: 0.6154 - val_loss: 20.4705\n",
      "Epoch 6/40\n",
      "\u001b[1m5/5\u001b[0m \u001b[32m━━━━━━━━━━━━━━━━━━━━\u001b[0m\u001b[37m\u001b[0m \u001b[1m0s\u001b[0m 17ms/step - accuracy: 0.4290 - loss: 24.3976 - val_accuracy: 0.6154 - val_loss: 19.7860\n",
      "Epoch 7/40\n",
      "\u001b[1m5/5\u001b[0m \u001b[32m━━━━━━━━━━━━━━━━━━━━\u001b[0m\u001b[37m\u001b[0m \u001b[1m0s\u001b[0m 30ms/step - accuracy: 0.4854 - loss: 21.1707 - val_accuracy: 0.6154 - val_loss: 19.1180\n",
      "Epoch 8/40\n",
      "\u001b[1m5/5\u001b[0m \u001b[32m━━━━━━━━━━━━━━━━━━━━\u001b[0m\u001b[37m\u001b[0m \u001b[1m0s\u001b[0m 12ms/step - accuracy: 0.4468 - loss: 22.0861 - val_accuracy: 0.6154 - val_loss: 18.4419\n",
      "Epoch 9/40\n",
      "\u001b[1m5/5\u001b[0m \u001b[32m━━━━━━━━━━━━━━━━━━━━\u001b[0m\u001b[37m\u001b[0m \u001b[1m0s\u001b[0m 17ms/step - accuracy: 0.4325 - loss: 21.8153 - val_accuracy: 0.6154 - val_loss: 17.7740\n",
      "Epoch 10/40\n",
      "\u001b[1m5/5\u001b[0m \u001b[32m━━━━━━━━━━━━━━━━━━━━\u001b[0m\u001b[37m\u001b[0m \u001b[1m0s\u001b[0m 16ms/step - accuracy: 0.4542 - loss: 20.3928 - val_accuracy: 0.6154 - val_loss: 17.1135\n",
      "Epoch 11/40\n",
      "\u001b[1m5/5\u001b[0m \u001b[32m━━━━━━━━━━━━━━━━━━━━\u001b[0m\u001b[37m\u001b[0m \u001b[1m0s\u001b[0m 15ms/step - accuracy: 0.4642 - loss: 18.8524 - val_accuracy: 0.6154 - val_loss: 16.4539\n",
      "Epoch 12/40\n",
      "\u001b[1m5/5\u001b[0m \u001b[32m━━━━━━━━━━━━━━━━━━━━\u001b[0m\u001b[37m\u001b[0m \u001b[1m0s\u001b[0m 16ms/step - accuracy: 0.4945 - loss: 17.1400 - val_accuracy: 0.6154 - val_loss: 15.7979\n",
      "Epoch 13/40\n",
      "\u001b[1m5/5\u001b[0m \u001b[32m━━━━━━━━━━━━━━━━━━━━\u001b[0m\u001b[37m\u001b[0m \u001b[1m0s\u001b[0m 17ms/step - accuracy: 0.4273 - loss: 18.9472 - val_accuracy: 0.6154 - val_loss: 15.1303\n",
      "Epoch 14/40\n",
      "\u001b[1m5/5\u001b[0m \u001b[32m━━━━━━━━━━━━━━━━━━━━\u001b[0m\u001b[37m\u001b[0m \u001b[1m0s\u001b[0m 18ms/step - accuracy: 0.4681 - loss: 16.6684 - val_accuracy: 0.6154 - val_loss: 14.4763\n",
      "Epoch 15/40\n",
      "\u001b[1m5/5\u001b[0m \u001b[32m━━━━━━━━━━━━━━━━━━━━\u001b[0m\u001b[37m\u001b[0m \u001b[1m0s\u001b[0m 16ms/step - accuracy: 0.5128 - loss: 14.4702 - val_accuracy: 0.6154 - val_loss: 13.8266\n",
      "Epoch 16/40\n",
      "\u001b[1m5/5\u001b[0m \u001b[32m━━━━━━━━━━━━━━━━━━━━\u001b[0m\u001b[37m\u001b[0m \u001b[1m0s\u001b[0m 17ms/step - accuracy: 0.4728 - loss: 15.2627 - val_accuracy: 0.6154 - val_loss: 13.1685\n",
      "Epoch 17/40\n",
      "\u001b[1m5/5\u001b[0m \u001b[32m━━━━━━━━━━━━━━━━━━━━\u001b[0m\u001b[37m\u001b[0m \u001b[1m0s\u001b[0m 15ms/step - accuracy: 0.4602 - loss: 14.7118 - val_accuracy: 0.6154 - val_loss: 12.5116\n",
      "Epoch 18/40\n",
      "\u001b[1m5/5\u001b[0m \u001b[32m━━━━━━━━━━━━━━━━━━━━\u001b[0m\u001b[37m\u001b[0m \u001b[1m0s\u001b[0m 12ms/step - accuracy: 0.4221 - loss: 15.0473 - val_accuracy: 0.6154 - val_loss: 11.8535\n",
      "Epoch 19/40\n",
      "\u001b[1m5/5\u001b[0m \u001b[32m━━━━━━━━━━━━━━━━━━━━\u001b[0m\u001b[37m\u001b[0m \u001b[1m0s\u001b[0m 19ms/step - accuracy: 0.4694 - loss: 13.0440 - val_accuracy: 0.6154 - val_loss: 11.2117\n",
      "Epoch 20/40\n",
      "\u001b[1m5/5\u001b[0m \u001b[32m━━━━━━━━━━━━━━━━━━━━\u001b[0m\u001b[37m\u001b[0m \u001b[1m0s\u001b[0m 12ms/step - accuracy: 0.4737 - loss: 12.2272 - val_accuracy: 0.6154 - val_loss: 10.5637\n",
      "Epoch 21/40\n",
      "\u001b[1m5/5\u001b[0m \u001b[32m━━━━━━━━━━━━━━━━━━━━\u001b[0m\u001b[37m\u001b[0m \u001b[1m0s\u001b[0m 12ms/step - accuracy: 0.4594 - loss: 12.0240 - val_accuracy: 0.6154 - val_loss: 9.9152\n",
      "Epoch 22/40\n",
      "\u001b[1m5/5\u001b[0m \u001b[32m━━━━━━━━━━━━━━━━━━━━\u001b[0m\u001b[37m\u001b[0m \u001b[1m0s\u001b[0m 12ms/step - accuracy: 0.4568 - loss: 11.1011 - val_accuracy: 0.6154 - val_loss: 9.2649\n",
      "Epoch 23/40\n",
      "\u001b[1m5/5\u001b[0m \u001b[32m━━━━━━━━━━━━━━━━━━━━\u001b[0m\u001b[37m\u001b[0m \u001b[1m0s\u001b[0m 16ms/step - accuracy: 0.4924 - loss: 9.8079 - val_accuracy: 0.6154 - val_loss: 8.6185\n",
      "Epoch 24/40\n",
      "\u001b[1m5/5\u001b[0m \u001b[32m━━━━━━━━━━━━━━━━━━━━\u001b[0m\u001b[37m\u001b[0m \u001b[1m0s\u001b[0m 16ms/step - accuracy: 0.4377 - loss: 10.0216 - val_accuracy: 0.6154 - val_loss: 7.9618\n",
      "Epoch 25/40\n",
      "\u001b[1m5/5\u001b[0m \u001b[32m━━━━━━━━━━━━━━━━━━━━\u001b[0m\u001b[37m\u001b[0m \u001b[1m0s\u001b[0m 16ms/step - accuracy: 0.4442 - loss: 9.4006 - val_accuracy: 0.6154 - val_loss: 7.3112\n",
      "Epoch 26/40\n",
      "\u001b[1m5/5\u001b[0m \u001b[32m━━━━━━━━━━━━━━━━━━━━\u001b[0m\u001b[37m\u001b[0m \u001b[1m0s\u001b[0m 16ms/step - accuracy: 0.4624 - loss: 8.1148 - val_accuracy: 0.6154 - val_loss: 6.6689\n",
      "Epoch 27/40\n",
      "\u001b[1m5/5\u001b[0m \u001b[32m━━━━━━━━━━━━━━━━━━━━\u001b[0m\u001b[37m\u001b[0m \u001b[1m0s\u001b[0m 14ms/step - accuracy: 0.4134 - loss: 8.2123 - val_accuracy: 0.6154 - val_loss: 6.0094\n",
      "Epoch 28/40\n",
      "\u001b[1m5/5\u001b[0m \u001b[32m━━━━━━━━━━━━━━━━━━━━\u001b[0m\u001b[37m\u001b[0m \u001b[1m0s\u001b[0m 11ms/step - accuracy: 0.4689 - loss: 6.6407 - val_accuracy: 0.6154 - val_loss: 5.3685\n",
      "Epoch 29/40\n",
      "\u001b[1m5/5\u001b[0m \u001b[32m━━━━━━━━━━━━━━━━━━━━\u001b[0m\u001b[37m\u001b[0m \u001b[1m0s\u001b[0m 12ms/step - accuracy: 0.4655 - loss: 6.0026 - val_accuracy: 0.6154 - val_loss: 4.7234\n",
      "Epoch 30/40\n",
      "\u001b[1m5/5\u001b[0m \u001b[32m━━━━━━━━━━━━━━━━━━━━\u001b[0m\u001b[37m\u001b[0m \u001b[1m0s\u001b[0m 13ms/step - accuracy: 0.5015 - loss: 4.8568 - val_accuracy: 0.6154 - val_loss: 4.0870\n",
      "Epoch 31/40\n",
      "\u001b[1m5/5\u001b[0m \u001b[32m━━━━━━━━━━━━━━━━━━━━\u001b[0m\u001b[37m\u001b[0m \u001b[1m0s\u001b[0m 15ms/step - accuracy: 0.4963 - loss: 4.2178 - val_accuracy: 0.6154 - val_loss: 3.4394\n",
      "Epoch 32/40\n",
      "\u001b[1m5/5\u001b[0m \u001b[32m━━━━━━━━━━━━━━━━━━━━\u001b[0m\u001b[37m\u001b[0m \u001b[1m0s\u001b[0m 11ms/step - accuracy: 0.4902 - loss: 3.6412 - val_accuracy: 0.6154 - val_loss: 2.7872\n",
      "Epoch 33/40\n",
      "\u001b[1m5/5\u001b[0m \u001b[32m━━━━━━━━━━━━━━━━━━━━\u001b[0m\u001b[37m\u001b[0m \u001b[1m0s\u001b[0m 12ms/step - accuracy: 0.4789 - loss: 3.0745 - val_accuracy: 0.6154 - val_loss: 2.1322\n",
      "Epoch 34/40\n",
      "\u001b[1m5/5\u001b[0m \u001b[32m━━━━━━━━━━━━━━━━━━━━\u001b[0m\u001b[37m\u001b[0m \u001b[1m0s\u001b[0m 12ms/step - accuracy: 0.4616 - loss: 2.3708 - val_accuracy: 0.6154 - val_loss: 1.4876\n",
      "Epoch 35/40\n",
      "\u001b[1m5/5\u001b[0m \u001b[32m━━━━━━━━━━━━━━━━━━━━\u001b[0m\u001b[37m\u001b[0m \u001b[1m0s\u001b[0m 16ms/step - accuracy: 0.4811 - loss: 1.6545 - val_accuracy: 0.6154 - val_loss: 0.8914\n",
      "Epoch 36/40\n",
      "\u001b[1m5/5\u001b[0m \u001b[32m━━━━━━━━━━━━━━━━━━━━\u001b[0m\u001b[37m\u001b[0m \u001b[1m0s\u001b[0m 13ms/step - accuracy: 0.4498 - loss: 1.0446 - val_accuracy: 0.6923 - val_loss: 0.4627\n",
      "Epoch 37/40\n",
      "\u001b[1m5/5\u001b[0m \u001b[32m━━━━━━━━━━━━━━━━━━━━\u001b[0m\u001b[37m\u001b[0m \u001b[1m0s\u001b[0m 13ms/step - accuracy: 0.5781 - loss: 0.6155 - val_accuracy: 0.8974 - val_loss: 0.3289\n",
      "Epoch 38/40\n",
      "\u001b[1m5/5\u001b[0m \u001b[32m━━━━━━━━━━━━━━━━━━━━\u001b[0m\u001b[37m\u001b[0m \u001b[1m0s\u001b[0m 13ms/step - accuracy: 0.8345 - loss: 0.4355 - val_accuracy: 0.9231 - val_loss: 0.3623\n",
      "Epoch 39/40\n",
      "\u001b[1m5/5\u001b[0m \u001b[32m━━━━━━━━━━━━━━━━━━━━\u001b[0m\u001b[37m\u001b[0m \u001b[1m0s\u001b[0m 13ms/step - accuracy: 0.8952 - loss: 0.4579 - val_accuracy: 0.7949 - val_loss: 0.4231\n",
      "Epoch 40/40\n",
      "\u001b[1m5/5\u001b[0m \u001b[32m━━━━━━━━━━━━━━━━━━━━\u001b[0m\u001b[37m\u001b[0m \u001b[1m0s\u001b[0m 12ms/step - accuracy: 0.8375 - loss: 0.4849 - val_accuracy: 0.7949 - val_loss: 0.4387\n"
     ]
    },
    {
     "data": {
      "text/plain": [
       "<keras.src.callbacks.history.History at 0x2532a69ee90>"
      ]
     },
     "execution_count": 109,
     "metadata": {},
     "output_type": "execute_result"
    }
   ],
   "source": [
    "from tensorflow.keras.models import Sequential\n",
    "from tensorflow.keras.layers import Dense\n",
    "\n",
    "model = Sequential([\n",
    "    Dense(8, activation='relu', input_shape=(5,), name=\"hidden\"),\n",
    "    Dense(2, activation='softmax')\n",
    "])\n",
    "model.compile(optimizer='adam', loss='sparse_categorical_crossentropy', metrics=['accuracy'])\n",
    "model.fit(X_train, y_train, epochs=40, batch_size=32, validation_split=0.2)\n"
   ]
  },
  {
   "cell_type": "code",
   "execution_count": 110,
   "id": "6350f4fe",
   "metadata": {},
   "outputs": [
    {
     "name": "stdout",
     "output_type": "stream",
     "text": [
      "\u001b[1m2/2\u001b[0m \u001b[32m━━━━━━━━━━━━━━━━━━━━\u001b[0m\u001b[37m\u001b[0m \u001b[1m0s\u001b[0m 29ms/step\n",
      "              precision    recall  f1-score   support\n",
      "\n",
      "    clapping       0.88      0.96      0.92        24\n",
      "  fingersnap       0.95      0.88      0.91        24\n",
      "\n",
      "    accuracy                           0.92        48\n",
      "   macro avg       0.92      0.92      0.92        48\n",
      "weighted avg       0.92      0.92      0.92        48\n",
      "\n"
     ]
    }
   ],
   "source": [
    "from sklearn.metrics import classification_report\n",
    "\n",
    "targets = ['clapping', 'fingersnap']\n",
    "\n",
    "# Get predictions\n",
    "y_pred = model.predict(X_test)\n",
    "y_pred_classes = y_pred.argmax(axis=1)  # convert from probabilities to class indices\n",
    "\n",
    "# Print report\n",
    "print(classification_report(y_test, y_pred_classes, target_names=targets))\n"
   ]
  },
  {
   "cell_type": "code",
   "execution_count": 111,
   "id": "58d6b23a",
   "metadata": {},
   "outputs": [
    {
     "data": {
      "image/png": "[encoded data removed]",
      "text/plain": [
       "<Figure size 600x500 with 2 Axes>"
      ]
     },
     "metadata": {},
     "output_type": "display_data"
    }
   ],
   "source": [
    "from sklearn.metrics import confusion_matrix\n",
    "import seaborn as sns\n",
    "import matplotlib.pyplot as plt\n",
    "\n",
    "cm = confusion_matrix(y_test, y_pred_classes)\n",
    "\n",
    "plt.figure(figsize=(6, 5))\n",
    "sns.heatmap(cm, annot=True, fmt=\"d\", cmap=\"Blues\",\n",
    "            xticklabels=targets,\n",
    "            yticklabels=targets)\n",
    "plt.ylabel(\"True Label\")\n",
    "plt.xlabel(\"Predicted Label\")\n",
    "plt.title(\"Confusion Matrix\")\n",
    "plt.show()\n"
   ]
  },
  {
   "cell_type": "code",
   "execution_count": 112,
   "id": "cb4d52d5",
   "metadata": {},
   "outputs": [
    {
     "data": {
      "text/plain": [
       "[<Variable path=sequential_20/hidden/kernel, shape=(5, 8), dtype=float32, value=[[-0.18802252 -0.4352462   0.08307279 -0.59939307 -0.02288586  0.33559996\n",
       "    0.41823626  0.0705823 ]\n",
       "  [-0.08691341 -0.0275948  -0.5529592   0.3154595  -0.07883286  0.08337277\n",
       "    0.16278839  0.43133557]\n",
       "  [-0.04100844 -0.03903365  0.24792004 -0.24333543 -0.47617027 -0.6865378\n",
       "   -0.40528044  0.10516849]\n",
       "  [-0.5970718   0.50400376  0.63237906 -0.39719296  0.5963702   0.43332452\n",
       "   -0.19387713 -0.3541199 ]\n",
       "  [ 0.30249056 -0.6427063  -0.37772843 -0.55026263 -0.48345518  0.48443985\n",
       "   -0.17874736  0.5163948 ]]>,\n",
       " <Variable path=sequential_20/hidden/bias, shape=(8,), dtype=float32, value=[-0.16414867  0.         -0.00135555  0.          0.         -0.161734\n",
       "   0.          0.22851941]>,\n",
       " <Variable path=sequential_20/dense_20/kernel, shape=(8, 2), dtype=float32, value=[[ 0.05625232  0.45814127]\n",
       "  [-0.23411292  0.32450604]\n",
       "  [ 0.35811186 -0.53194284]\n",
       "  [ 0.27279282 -0.01519698]\n",
       "  [ 0.20833367  0.30981123]\n",
       "  [ 0.01680527  0.37714186]\n",
       "  [ 0.5956143   0.3958844 ]\n",
       "  [-0.34023762 -0.99783444]]>,\n",
       " <Variable path=sequential_20/dense_20/bias, shape=(2,), dtype=float32, value=[ 0.1852224 -0.1852224]>]"
      ]
     },
     "execution_count": 112,
     "metadata": {},
     "output_type": "execute_result"
    }
   ],
   "source": [
    "model.weights"
   ]
  },
  {
   "cell_type": "code",
   "execution_count": 116,
   "id": "de7baec2",
   "metadata": {},
   "outputs": [],
   "source": [
    "import numpy as np\n",
    "from tensorflow.keras.models import Sequential\n",
    "from tensorflow.keras.layers import Dense\n",
    "from sklearn.metrics import accuracy_score\n",
    "from tensorflow.keras.utils import to_categorical\n",
    "\n",
    "def evaluate_custom_mlp(X, y, weights_dict, is_categorical=False, shape=(5, 8, 2)):\n",
    "    \"\"\"\n",
    "    Evaluate accuracy of a manually-weighted MLP model.\n",
    "\n",
    "    Parameters:\n",
    "        X (np.ndarray): Input data, shape (num_samples, 4)\n",
    "        y (np.ndarray): Labels, shape (num_samples,) or one-hot (num_samples, 3)\n",
    "        weights_dict (dict): Dictionary with keys:\n",
    "            'input_hidden_weights', 'hidden_biases',\n",
    "            'hidden_output_weights', 'output_biases'\n",
    "        is_categorical (bool): Set True if y is one-hot encoded\n",
    "\n",
    "    Returns:\n",
    "        float: Accuracy score\n",
    "    \"\"\"\n",
    "\n",
    "    # 1. Build model with matching architecture\n",
    "    model = Sequential([\n",
    "        Dense(shape[1], input_shape=(shape[0],), activation='relu', name='hidden'),\n",
    "        Dense(shape[2], activation='softmax', name='output')\n",
    "    ])\n",
    "\n",
    "    # 2. Set custom weights\n",
    "    model.get_layer('hidden').set_weights([\n",
    "        np.array(weights_dict['input_hidden_weights']),\n",
    "        np.array(weights_dict['hidden_biases'])\n",
    "    ])\n",
    "\n",
    "    model.get_layer('output').set_weights([\n",
    "        np.array(weights_dict['hidden_output_weights']),\n",
    "        np.array(weights_dict['output_biases'])\n",
    "    ])\n",
    "\n",
    "    # 3. Get predictions\n",
    "    predictions = model.predict(X)\n",
    "    predicted_classes = np.argmax(predictions, axis=1)\n",
    "\n",
    "    # 4. Process ground truth\n",
    "    if is_categorical:\n",
    "        true_classes = np.argmax(y, axis=1)\n",
    "    else:\n",
    "        true_classes = y\n",
    "\n",
    "    # 5. Compute accuracy\n",
    "    accuracy = accuracy_score(true_classes, predicted_classes)\n",
    "    return accuracy\n"
   ]
  },
  {
   "cell_type": "markdown",
   "id": "a1a164b8",
   "metadata": {},
   "source": [
    "```\n",
    "weights = {\n",
    "  \"input_hidden_weights\" : [[-0.18802252, -0.4352462, 0.08307279, -0.59939307, -0.02288586, 0.33559996, 0.41823626,  0.0705823 ],\n",
    "                              [-0.08691341, -0.0275948, -0.5529592, 0.3154595, -0.07883286, 0.08337277, 0.16278839, 0.43133557],\n",
    "                              [-0.04100844, -0.03903365, 0.24792004, -0.24333543, -0.47617027, -0.6865378, -0.40528044, 0.10516849],\n",
    "                              [-0.5970718, 0.50400376, 0.63237906, -0.39719296, 0.5963702, 0.43332452, -0.19387713, -0.3541199],\n",
    "                              [0.30249056, -0.6427063, -0.37772843, -0.55026263, -0.48345518, 0.48443985, -0.17874736, 0.5163948]],\n",
    "  \"hidden_biases\" : [-0.16414867,  0, -0.00135555,  0, 0, -0.161734, 0, 0.22851941],\n",
    "  \"hidden_output_weights\" : [[0.05625232, 0.45814127,],\n",
    "                              [-0.23411292, 0.32450604],\n",
    "                              [0.35811186, -0.53194284],\n",
    "                              [0.27279282, -0.01519698],\n",
    "                              [0.20833367, 0.30981123],\n",
    "                              [0.01680527, 0.37714186],\n",
    "                              [0.5956143, 0.3958844 ],\n",
    "                              [-0.34023762, -0.99783444]],\n",
    "    \"output_biases\" : [0.1852224, -0.1852224]\n",
    "}\n",
    "```"
   ]
  },
  {
   "cell_type": "code",
   "execution_count": 117,
   "id": "99c71b79",
   "metadata": {},
   "outputs": [
    {
     "name": "stdout",
     "output_type": "stream",
     "text": [
      "\u001b[1m8/8\u001b[0m \u001b[32m━━━━━━━━━━━━━━━━━━━━\u001b[0m\u001b[37m\u001b[0m \u001b[1m0s\u001b[0m 7ms/step \n",
      "Accuracy: 0.5\n"
     ]
    }
   ],
   "source": [
    "weights = {\n",
    "  \"input_hidden_weights\" : [[-0.19, -0.44, 0.08, -0.6, -0.02, 0.34, 0.42,  0.07 ],\n",
    "                              [-0.09, -0.03, -0.55, 0.32, -0.08, 0.08, 0.16, 0.43],\n",
    "                              [-0.04, -0.04, 0.25, -0.24, -0.48, -0.69, -0.41, 0.11],\n",
    "                              [-0.6, 0.50, 0.63, -0.4, 0.6, 0.43, -0.19, -0.35],\n",
    "                              [0.30, -0.64, -0.38, -0.55, -0.48, 0.48, -0.18, 0.52]],\n",
    "  \"hidden_biases\" : [-0.16,  0, -0.01,  0, 0, -0.16, 0, 0.23],\n",
    "  \"hidden_output_weights\" : [[0.056, 0.46,],\n",
    "                              [-0.23, 0.32],\n",
    "                              [0.36, -0.53],\n",
    "                              [0.27, -0.02],\n",
    "                              [0.21, 0.31],\n",
    "                              [0.02, 0.38],\n",
    "                              [0.6, 0.4 ],\n",
    "                              [-0.34, -0.1]],\n",
    "    \"output_biases\" : [0.19, -0.19]\n",
    "}\n",
    "\n",
    "accuracy = evaluate_custom_mlp(X, y, weights, is_categorical=False)\n",
    "print(\"Accuracy:\", accuracy)"
   ]
  }
 ],
 "metadata": {
  "kernelspec": {
   "display_name": "radarml",
   "language": "python",
   "name": "python3"
  },
  "language_info": {
   "codemirror_mode": {
    "name": "ipython",
    "version": 3
   },
   "file_extension": ".py",
   "mimetype": "text/x-python",
   "name": "python",
   "nbconvert_exporter": "python",
   "pygments_lexer": "ipython3",
   "version": "3.11.9"
  }
 },
 "nbformat": 4,
 "nbformat_minor": 5
}
